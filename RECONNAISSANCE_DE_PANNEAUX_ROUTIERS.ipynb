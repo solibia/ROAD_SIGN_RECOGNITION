{
  "nbformat": 4,
  "nbformat_minor": 0,
  "metadata": {
    "colab": {
      "name": "RECONNAISSANCE_DE_PANNEAUX_ROUTIERS.ipynb",
      "provenance": [],
      "collapsed_sections": [],
      "toc_visible": true
    },
    "kernelspec": {
      "name": "python3",
      "display_name": "Python 3"
    }
  },
  "cells": [
    {
      "cell_type": "code",
      "metadata": {
        "id": "-NQ2OrYWI3qR",
        "colab_type": "code",
        "colab": {}
      },
      "source": [
        ""
      ],
      "execution_count": 0,
      "outputs": []
    },
    {
      "cell_type": "code",
      "metadata": {
        "id": "bMztnJVkvF83",
        "colab_type": "code",
        "outputId": "b49fc047-069b-4627-cd61-b5a58f35f4b2",
        "colab": {
          "base_uri": "https://localhost:8080/",
          "height": 132
        }
      },
      "source": [
        "from google.colab import drive\n",
        "drive.mount('/content/drive')"
      ],
      "execution_count": 0,
      "outputs": [
        {
          "output_type": "stream",
          "text": [
            "Go to this URL in a browser: https://accounts.google.com/o/oauth2/auth?client_id=947318989803-6bn6qk8qdgf4n4g3pfee6491hc0brc4i.apps.googleusercontent.com&redirect_uri=urn%3aietf%3awg%3aoauth%3a2.0%3aoob&response_type=code&scope=email%20https%3a%2f%2fwww.googleapis.com%2fauth%2fdocs.test%20https%3a%2f%2fwww.googleapis.com%2fauth%2fdrive%20https%3a%2f%2fwww.googleapis.com%2fauth%2fdrive.photos.readonly%20https%3a%2f%2fwww.googleapis.com%2fauth%2fpeopleapi.readonly\n",
            "\n",
            "Enter your authorization code:\n",
            "··········\n",
            "Mounted at /content/drive\n"
          ],
          "name": "stdout"
        }
      ]
    },
    {
      "cell_type": "code",
      "metadata": {
        "id": "gRpl-F5WbWAi",
        "colab_type": "code",
        "colab": {}
      },
      "source": [
        "#Copie du jeu de données dans colaboratory\n",
        "cp /content/drive/My\\ Drive/Database.zip /"
      ],
      "execution_count": 0,
      "outputs": []
    },
    {
      "cell_type": "code",
      "metadata": {
        "id": "AOuZswK2r9do",
        "colab_type": "code",
        "colab": {}
      },
      "source": [
        "import os\n",
        "import zipfile\n",
        "import pathlib\n",
        "#Décompression du dataset\n",
        "local_zip = '/Database.zip'\n",
        "zip_ref = zipfile.ZipFile(local_zip, 'r')\n",
        "zip_ref.extractall('/')\n",
        "zip_ref.close()"
      ],
      "execution_count": 0,
      "outputs": []
    },
    {
      "cell_type": "code",
      "metadata": {
        "id": "po3BE889siec",
        "colab_type": "code",
        "outputId": "b3b59153-92d6-421a-c847-d691872dd504",
        "colab": {
          "base_uri": "https://localhost:8080/",
          "height": 131
        }
      },
      "source": [
        "ll /Database/"
      ],
      "execution_count": 0,
      "outputs": [
        {
          "output_type": "stream",
          "text": [
            "total 20\n",
            "drwxr-xr-x 4 root 4096 Jan 22 05:19 \u001b[0m\u001b[01;34mBaseDApprentissage\u001b[0m/\n",
            "drwxr-xr-x 4 root 4096 Jan 22 05:18 \u001b[01;34mBaseDeTest\u001b[0m/\n",
            "-rw-r--r-- 1 root 1645 Jan 22 05:20 Readme-HOG.txt\n",
            "-rw-r--r-- 1 root  881 Jan 22 05:18 Readme-readTrafficSigns.txt\n",
            "-rw-r--r-- 1 root 1391 Jan 22 05:18 readTrafficSigns.py\n"
          ],
          "name": "stdout"
        }
      ]
    },
    {
      "cell_type": "code",
      "metadata": {
        "id": "S6sGlsa8svkM",
        "colab_type": "code",
        "outputId": "26b15496-34f4-4193-bfe9-1b3f45741ac4",
        "colab": {
          "base_uri": "https://localhost:8080/",
          "height": 853
        }
      },
      "source": [
        "ll /Database/BaseDApprentissage/Training_HOG/HOG/HOG_02/"
      ],
      "execution_count": 0,
      "outputs": [
        {
          "output_type": "stream",
          "text": [
            "total 1540\n",
            "drwxr-xr-x 2 root 12288 Jan 22 05:19 \u001b[0m\u001b[01;34m00000\u001b[0m/\n",
            "drwxr-xr-x 2 root 73728 Jan 22 05:19 \u001b[01;34m00001\u001b[0m/\n",
            "drwxr-xr-x 2 root 73728 Jan 22 05:19 \u001b[01;34m00002\u001b[0m/\n",
            "drwxr-xr-x 2 root 61440 Jan 22 05:19 \u001b[01;34m00003\u001b[0m/\n",
            "drwxr-xr-x 2 root 69632 Jan 22 05:19 \u001b[01;34m00004\u001b[0m/\n",
            "drwxr-xr-x 2 root 69632 Jan 22 05:19 \u001b[01;34m00005\u001b[0m/\n",
            "drwxr-xr-x 2 root 20480 Jan 22 05:19 \u001b[01;34m00006\u001b[0m/\n",
            "drwxr-xr-x 2 root 57344 Jan 22 05:19 \u001b[01;34m00007\u001b[0m/\n",
            "drwxr-xr-x 2 root 61440 Jan 22 05:19 \u001b[01;34m00008\u001b[0m/\n",
            "drwxr-xr-x 2 root 65536 Jan 22 05:19 \u001b[01;34m00009\u001b[0m/\n",
            "drwxr-xr-x 2 root 69632 Jan 22 05:19 \u001b[01;34m00010\u001b[0m/\n",
            "drwxr-xr-x 2 root 49152 Jan 22 05:19 \u001b[01;34m00011\u001b[0m/\n",
            "drwxr-xr-x 2 root 69632 Jan 22 05:19 \u001b[01;34m00012\u001b[0m/\n",
            "drwxr-xr-x 2 root 69632 Jan 22 05:19 \u001b[01;34m00013\u001b[0m/\n",
            "drwxr-xr-x 2 root 36864 Jan 22 05:19 \u001b[01;34m00014\u001b[0m/\n",
            "drwxr-xr-x 2 root 20480 Jan 22 05:19 \u001b[01;34m00015\u001b[0m/\n",
            "drwxr-xr-x 2 root 20480 Jan 22 05:19 \u001b[01;34m00016\u001b[0m/\n",
            "drwxr-xr-x 2 root 36864 Jan 22 05:19 \u001b[01;34m00017\u001b[0m/\n",
            "drwxr-xr-x 2 root 36864 Jan 22 05:19 \u001b[01;34m00018\u001b[0m/\n",
            "drwxr-xr-x 2 root 12288 Jan 22 05:19 \u001b[01;34m00019\u001b[0m/\n",
            "drwxr-xr-x 2 root 20480 Jan 22 05:19 \u001b[01;34m00020\u001b[0m/\n",
            "drwxr-xr-x 2 root 12288 Jan 22 05:19 \u001b[01;34m00021\u001b[0m/\n",
            "drwxr-xr-x 2 root 20480 Jan 22 05:19 \u001b[01;34m00022\u001b[0m/\n",
            "drwxr-xr-x 2 root 20480 Jan 22 05:19 \u001b[01;34m00023\u001b[0m/\n",
            "drwxr-xr-x 2 root 12288 Jan 22 05:19 \u001b[01;34m00024\u001b[0m/\n",
            "drwxr-xr-x 2 root 69632 Jan 22 05:19 \u001b[01;34m00025\u001b[0m/\n",
            "drwxr-xr-x 2 root 20480 Jan 22 05:19 \u001b[01;34m00026\u001b[0m/\n",
            "drwxr-xr-x 2 root 12288 Jan 22 05:19 \u001b[01;34m00027\u001b[0m/\n",
            "drwxr-xr-x 2 root 20480 Jan 22 05:19 \u001b[01;34m00028\u001b[0m/\n",
            "drwxr-xr-x 2 root 12288 Jan 22 05:19 \u001b[01;34m00029\u001b[0m/\n",
            "drwxr-xr-x 2 root 20480 Jan 22 05:19 \u001b[01;34m00030\u001b[0m/\n",
            "drwxr-xr-x 2 root 36864 Jan 22 05:19 \u001b[01;34m00031\u001b[0m/\n",
            "drwxr-xr-x 2 root 12288 Jan 22 05:19 \u001b[01;34m00032\u001b[0m/\n",
            "drwxr-xr-x 2 root 28672 Jan 22 05:19 \u001b[01;34m00033\u001b[0m/\n",
            "drwxr-xr-x 2 root 20480 Jan 22 05:19 \u001b[01;34m00034\u001b[0m/\n",
            "drwxr-xr-x 2 root 36864 Jan 22 05:19 \u001b[01;34m00035\u001b[0m/\n",
            "drwxr-xr-x 2 root 20480 Jan 22 05:19 \u001b[01;34m00036\u001b[0m/\n",
            "drwxr-xr-x 2 root 12288 Jan 22 05:19 \u001b[01;34m00037\u001b[0m/\n",
            "drwxr-xr-x 2 root 69632 Jan 22 05:19 \u001b[01;34m00038\u001b[0m/\n",
            "drwxr-xr-x 2 root 12288 Jan 22 05:19 \u001b[01;34m00039\u001b[0m/\n",
            "drwxr-xr-x 2 root 20480 Jan 22 05:19 \u001b[01;34m00040\u001b[0m/\n",
            "drwxr-xr-x 2 root 12288 Jan 22 05:19 \u001b[01;34m00041\u001b[0m/\n",
            "drwxr-xr-x 2 root 12288 Jan 22 05:19 \u001b[01;34m00042\u001b[0m/\n"
          ],
          "name": "stdout"
        }
      ]
    },
    {
      "cell_type": "code",
      "metadata": {
        "id": "9X3MJmUZcqjz",
        "colab_type": "code",
        "colab": {}
      },
      "source": [
        "\n",
        "import matplotlib.pyplot as plt\n",
        "import csv\n",
        "\n",
        "# function for reading the images\n",
        "# arguments: path to the traffic sign data\n",
        "# returns: create a csv file of HoG images features\n",
        "\n",
        "def readTrafficSignsTrain(rootpath):\n",
        "    '''Reads traffic sign data \n",
        "    Arguments: path to the traffic sign data\n",
        "    Returns:   Create a csv file of HoG images features'''\n",
        "    # loop over all 42 classes\n",
        "    for c in range(0,43):\n",
        "        prefix = rootpath + '/' + format(c, '05d') + '/' # subdirectory for class\n",
        "        gtFile = open('GT-Classes/GT-'+ format(c, '05d') + '.csv') # annotations file\n",
        "        gtReader = csv.reader(gtFile, delimiter=';') # csv parser for annotations file\n",
        "\n",
        "        next(gtReader) # skip header\n",
        "        # loop over all images in current annotations file\n",
        "        for row in gtReader:\n",
        "            file_name = row[0][:-4] #remove .ppm in the image name\n",
        "            f_open = open(prefix + file_name+ '.txt', 'r')#Open txt file\n",
        "            lines = f_open.read().strip().split('\\n') #read all lines in the file and split\n",
        "            #lines contains all features HoG of an image\n",
        "            img_feateares=''\n",
        "            #We loop over lines to obtain one row in csv file\n",
        "            for one_feateare in lines:\n",
        "              img_feateares=img_feateares+one_feateare+';'\n",
        "            img_feateares=img_feateares+row[7]+'\\n' ## the 8th column is the label\n",
        "            #Open the data.csv file and write the new image features\n",
        "            fichier = open(\"data.csv\", \"a\")\n",
        "            fichier.write(img_feateares)\n",
        "            fichier.close()\n",
        "        gtFile.close()\n",
        "    print(\"End build csv file\")"
      ],
      "execution_count": 0,
      "outputs": []
    },
    {
      "cell_type": "code",
      "metadata": {
        "id": "VdnlWzrafYU-",
        "colab_type": "code",
        "outputId": "b453dc4e-b4cd-40f8-963d-4a9157acd4c4",
        "colab": {
          "base_uri": "https://localhost:8080/",
          "height": 36
        }
      },
      "source": [
        "file_path = '/Database/BaseDApprentissage/Training_HOG/HOG/HOG_02/'\n",
        "readTrafficSignsTrain(file_path)#Création du fichier data.csv"
      ],
      "execution_count": 0,
      "outputs": [
        {
          "output_type": "stream",
          "text": [
            "End build csv file\n"
          ],
          "name": "stdout"
        }
      ]
    },
    {
      "cell_type": "code",
      "metadata": {
        "id": "VABy1trgnvRs",
        "colab_type": "code",
        "outputId": "f5d797fe-e66e-4ba1-d923-cfc1fe6aec97",
        "colab": {
          "base_uri": "https://localhost:8080/",
          "height": 253
        }
      },
      "source": [
        "import pandas as pd\n",
        "df = pd.read_csv('data.csv', header=None, sep=';')#lecture du fichier créé (data.csv)\n",
        "df.head()#Visualisation des 5 premièrs feautures des images"
      ],
      "execution_count": 0,
      "outputs": [
        {
          "output_type": "execute_result",
          "data": {
            "text/html": [
              "<div>\n",
              "<style scoped>\n",
              "    .dataframe tbody tr th:only-of-type {\n",
              "        vertical-align: middle;\n",
              "    }\n",
              "\n",
              "    .dataframe tbody tr th {\n",
              "        vertical-align: top;\n",
              "    }\n",
              "\n",
              "    .dataframe thead th {\n",
              "        text-align: right;\n",
              "    }\n",
              "</style>\n",
              "<table border=\"1\" class=\"dataframe\">\n",
              "  <thead>\n",
              "    <tr style=\"text-align: right;\">\n",
              "      <th></th>\n",
              "      <th>0</th>\n",
              "      <th>1</th>\n",
              "      <th>2</th>\n",
              "      <th>3</th>\n",
              "      <th>4</th>\n",
              "      <th>5</th>\n",
              "      <th>6</th>\n",
              "      <th>7</th>\n",
              "      <th>8</th>\n",
              "      <th>9</th>\n",
              "      <th>10</th>\n",
              "      <th>11</th>\n",
              "      <th>12</th>\n",
              "      <th>13</th>\n",
              "      <th>14</th>\n",
              "      <th>15</th>\n",
              "      <th>16</th>\n",
              "      <th>17</th>\n",
              "      <th>18</th>\n",
              "      <th>19</th>\n",
              "      <th>20</th>\n",
              "      <th>21</th>\n",
              "      <th>22</th>\n",
              "      <th>23</th>\n",
              "      <th>24</th>\n",
              "      <th>25</th>\n",
              "      <th>26</th>\n",
              "      <th>27</th>\n",
              "      <th>28</th>\n",
              "      <th>29</th>\n",
              "      <th>30</th>\n",
              "      <th>31</th>\n",
              "      <th>32</th>\n",
              "      <th>33</th>\n",
              "      <th>34</th>\n",
              "      <th>35</th>\n",
              "      <th>36</th>\n",
              "      <th>37</th>\n",
              "      <th>38</th>\n",
              "      <th>39</th>\n",
              "      <th>...</th>\n",
              "      <th>1529</th>\n",
              "      <th>1530</th>\n",
              "      <th>1531</th>\n",
              "      <th>1532</th>\n",
              "      <th>1533</th>\n",
              "      <th>1534</th>\n",
              "      <th>1535</th>\n",
              "      <th>1536</th>\n",
              "      <th>1537</th>\n",
              "      <th>1538</th>\n",
              "      <th>1539</th>\n",
              "      <th>1540</th>\n",
              "      <th>1541</th>\n",
              "      <th>1542</th>\n",
              "      <th>1543</th>\n",
              "      <th>1544</th>\n",
              "      <th>1545</th>\n",
              "      <th>1546</th>\n",
              "      <th>1547</th>\n",
              "      <th>1548</th>\n",
              "      <th>1549</th>\n",
              "      <th>1550</th>\n",
              "      <th>1551</th>\n",
              "      <th>1552</th>\n",
              "      <th>1553</th>\n",
              "      <th>1554</th>\n",
              "      <th>1555</th>\n",
              "      <th>1556</th>\n",
              "      <th>1557</th>\n",
              "      <th>1558</th>\n",
              "      <th>1559</th>\n",
              "      <th>1560</th>\n",
              "      <th>1561</th>\n",
              "      <th>1562</th>\n",
              "      <th>1563</th>\n",
              "      <th>1564</th>\n",
              "      <th>1565</th>\n",
              "      <th>1566</th>\n",
              "      <th>1567</th>\n",
              "      <th>1568</th>\n",
              "    </tr>\n",
              "  </thead>\n",
              "  <tbody>\n",
              "    <tr>\n",
              "      <th>0</th>\n",
              "      <td>0.084114</td>\n",
              "      <td>0.012509</td>\n",
              "      <td>0.001139</td>\n",
              "      <td>0.041691</td>\n",
              "      <td>0.443293</td>\n",
              "      <td>0.033574</td>\n",
              "      <td>0.000213</td>\n",
              "      <td>0.010892</td>\n",
              "      <td>0.125005</td>\n",
              "      <td>0.072376</td>\n",
              "      <td>0.006039</td>\n",
              "      <td>0.044455</td>\n",
              "      <td>0.435786</td>\n",
              "      <td>0.064728</td>\n",
              "      <td>0.045807</td>\n",
              "      <td>0.058674</td>\n",
              "      <td>0.192964</td>\n",
              "      <td>0.040823</td>\n",
              "      <td>0.038744</td>\n",
              "      <td>0.142044</td>\n",
              "      <td>0.480704</td>\n",
              "      <td>0.036586</td>\n",
              "      <td>0.000000</td>\n",
              "      <td>0.022930</td>\n",
              "      <td>0.158162</td>\n",
              "      <td>0.085586</td>\n",
              "      <td>0.153284</td>\n",
              "      <td>0.293540</td>\n",
              "      <td>0.280026</td>\n",
              "      <td>0.076133</td>\n",
              "      <td>0.047578</td>\n",
              "      <td>0.035619</td>\n",
              "      <td>0.077658</td>\n",
              "      <td>0.054524</td>\n",
              "      <td>0.005042</td>\n",
              "      <td>0.018028</td>\n",
              "      <td>0.183104</td>\n",
              "      <td>0.106162</td>\n",
              "      <td>0.300339</td>\n",
              "      <td>0.111019</td>\n",
              "      <td>...</td>\n",
              "      <td>0.273770</td>\n",
              "      <td>0.121657</td>\n",
              "      <td>0.041059</td>\n",
              "      <td>0.036930</td>\n",
              "      <td>0.023378</td>\n",
              "      <td>0.026503</td>\n",
              "      <td>0.107648</td>\n",
              "      <td>0.139748</td>\n",
              "      <td>0.116941</td>\n",
              "      <td>0.124062</td>\n",
              "      <td>0.126452</td>\n",
              "      <td>0.031412</td>\n",
              "      <td>0.021391</td>\n",
              "      <td>0.006922</td>\n",
              "      <td>0.123032</td>\n",
              "      <td>0.129536</td>\n",
              "      <td>0.037063</td>\n",
              "      <td>0.046783</td>\n",
              "      <td>0.199411</td>\n",
              "      <td>0.219173</td>\n",
              "      <td>0.077214</td>\n",
              "      <td>0.024341</td>\n",
              "      <td>0.322829</td>\n",
              "      <td>0.072914</td>\n",
              "      <td>0.124794</td>\n",
              "      <td>0.115124</td>\n",
              "      <td>0.044732</td>\n",
              "      <td>0.049051</td>\n",
              "      <td>0.176152</td>\n",
              "      <td>0.042140</td>\n",
              "      <td>0.019567</td>\n",
              "      <td>0.044634</td>\n",
              "      <td>0.040081</td>\n",
              "      <td>0.042722</td>\n",
              "      <td>0.191935</td>\n",
              "      <td>0.371952</td>\n",
              "      <td>0.554959</td>\n",
              "      <td>0.071317</td>\n",
              "      <td>0.004744</td>\n",
              "      <td>0</td>\n",
              "    </tr>\n",
              "    <tr>\n",
              "      <th>1</th>\n",
              "      <td>0.042234</td>\n",
              "      <td>0.010996</td>\n",
              "      <td>0.000139</td>\n",
              "      <td>0.106656</td>\n",
              "      <td>0.431576</td>\n",
              "      <td>0.061183</td>\n",
              "      <td>0.000412</td>\n",
              "      <td>0.003250</td>\n",
              "      <td>0.077768</td>\n",
              "      <td>0.008534</td>\n",
              "      <td>0.000000</td>\n",
              "      <td>0.086742</td>\n",
              "      <td>0.439469</td>\n",
              "      <td>0.183968</td>\n",
              "      <td>0.077223</td>\n",
              "      <td>0.073741</td>\n",
              "      <td>0.176993</td>\n",
              "      <td>0.093957</td>\n",
              "      <td>0.041302</td>\n",
              "      <td>0.126331</td>\n",
              "      <td>0.443958</td>\n",
              "      <td>0.081025</td>\n",
              "      <td>0.000675</td>\n",
              "      <td>0.009133</td>\n",
              "      <td>0.186166</td>\n",
              "      <td>0.049147</td>\n",
              "      <td>0.087735</td>\n",
              "      <td>0.211209</td>\n",
              "      <td>0.238184</td>\n",
              "      <td>0.098414</td>\n",
              "      <td>0.239765</td>\n",
              "      <td>0.145102</td>\n",
              "      <td>0.022401</td>\n",
              "      <td>0.005190</td>\n",
              "      <td>0.000000</td>\n",
              "      <td>0.022031</td>\n",
              "      <td>0.126784</td>\n",
              "      <td>0.321207</td>\n",
              "      <td>0.208654</td>\n",
              "      <td>0.058249</td>\n",
              "      <td>...</td>\n",
              "      <td>0.098019</td>\n",
              "      <td>0.091205</td>\n",
              "      <td>0.108165</td>\n",
              "      <td>0.094924</td>\n",
              "      <td>0.007133</td>\n",
              "      <td>0.011339</td>\n",
              "      <td>0.061859</td>\n",
              "      <td>0.107373</td>\n",
              "      <td>0.025088</td>\n",
              "      <td>0.098446</td>\n",
              "      <td>0.102204</td>\n",
              "      <td>0.018499</td>\n",
              "      <td>0.000565</td>\n",
              "      <td>0.001575</td>\n",
              "      <td>0.365358</td>\n",
              "      <td>0.229380</td>\n",
              "      <td>0.015146</td>\n",
              "      <td>0.051255</td>\n",
              "      <td>0.083766</td>\n",
              "      <td>0.014316</td>\n",
              "      <td>0.000000</td>\n",
              "      <td>0.007598</td>\n",
              "      <td>0.652584</td>\n",
              "      <td>0.152075</td>\n",
              "      <td>0.047889</td>\n",
              "      <td>0.123778</td>\n",
              "      <td>0.085205</td>\n",
              "      <td>0.021854</td>\n",
              "      <td>0.017265</td>\n",
              "      <td>0.011444</td>\n",
              "      <td>0.050590</td>\n",
              "      <td>0.076776</td>\n",
              "      <td>0.023667</td>\n",
              "      <td>0.071095</td>\n",
              "      <td>0.219338</td>\n",
              "      <td>0.295188</td>\n",
              "      <td>0.125168</td>\n",
              "      <td>0.012118</td>\n",
              "      <td>0.143777</td>\n",
              "      <td>0</td>\n",
              "    </tr>\n",
              "    <tr>\n",
              "      <th>2</th>\n",
              "      <td>0.089617</td>\n",
              "      <td>0.080208</td>\n",
              "      <td>0.011471</td>\n",
              "      <td>0.053661</td>\n",
              "      <td>0.466442</td>\n",
              "      <td>0.026843</td>\n",
              "      <td>0.000000</td>\n",
              "      <td>0.016241</td>\n",
              "      <td>0.090332</td>\n",
              "      <td>0.085860</td>\n",
              "      <td>0.020544</td>\n",
              "      <td>0.041616</td>\n",
              "      <td>0.324918</td>\n",
              "      <td>0.101294</td>\n",
              "      <td>0.150956</td>\n",
              "      <td>0.090461</td>\n",
              "      <td>0.125183</td>\n",
              "      <td>0.089280</td>\n",
              "      <td>0.099953</td>\n",
              "      <td>0.203604</td>\n",
              "      <td>0.490225</td>\n",
              "      <td>0.030246</td>\n",
              "      <td>0.000000</td>\n",
              "      <td>0.025518</td>\n",
              "      <td>0.066473</td>\n",
              "      <td>0.128870</td>\n",
              "      <td>0.188204</td>\n",
              "      <td>0.233248</td>\n",
              "      <td>0.112596</td>\n",
              "      <td>0.289057</td>\n",
              "      <td>0.160155</td>\n",
              "      <td>0.036808</td>\n",
              "      <td>0.033466</td>\n",
              "      <td>0.014653</td>\n",
              "      <td>0.005625</td>\n",
              "      <td>0.008893</td>\n",
              "      <td>0.115329</td>\n",
              "      <td>0.241982</td>\n",
              "      <td>0.330389</td>\n",
              "      <td>0.080242</td>\n",
              "      <td>...</td>\n",
              "      <td>0.099684</td>\n",
              "      <td>0.036196</td>\n",
              "      <td>0.315712</td>\n",
              "      <td>0.131383</td>\n",
              "      <td>0.000000</td>\n",
              "      <td>0.000125</td>\n",
              "      <td>0.036367</td>\n",
              "      <td>0.081836</td>\n",
              "      <td>0.015582</td>\n",
              "      <td>0.027465</td>\n",
              "      <td>0.089598</td>\n",
              "      <td>0.036550</td>\n",
              "      <td>0.000000</td>\n",
              "      <td>0.016871</td>\n",
              "      <td>0.406918</td>\n",
              "      <td>0.222173</td>\n",
              "      <td>0.027702</td>\n",
              "      <td>0.040895</td>\n",
              "      <td>0.037954</td>\n",
              "      <td>0.004202</td>\n",
              "      <td>0.000000</td>\n",
              "      <td>0.024044</td>\n",
              "      <td>0.686508</td>\n",
              "      <td>0.204959</td>\n",
              "      <td>0.052816</td>\n",
              "      <td>0.057286</td>\n",
              "      <td>0.140188</td>\n",
              "      <td>0.045719</td>\n",
              "      <td>0.001459</td>\n",
              "      <td>0.004172</td>\n",
              "      <td>0.060764</td>\n",
              "      <td>0.161974</td>\n",
              "      <td>0.055433</td>\n",
              "      <td>0.087877</td>\n",
              "      <td>0.135764</td>\n",
              "      <td>0.116282</td>\n",
              "      <td>0.047458</td>\n",
              "      <td>0.018792</td>\n",
              "      <td>0.205772</td>\n",
              "      <td>0</td>\n",
              "    </tr>\n",
              "    <tr>\n",
              "      <th>3</th>\n",
              "      <td>0.124598</td>\n",
              "      <td>0.086021</td>\n",
              "      <td>0.008510</td>\n",
              "      <td>0.063973</td>\n",
              "      <td>0.390833</td>\n",
              "      <td>0.040249</td>\n",
              "      <td>0.014065</td>\n",
              "      <td>0.025400</td>\n",
              "      <td>0.088090</td>\n",
              "      <td>0.055588</td>\n",
              "      <td>0.012765</td>\n",
              "      <td>0.073985</td>\n",
              "      <td>0.197069</td>\n",
              "      <td>0.175948</td>\n",
              "      <td>0.267033</td>\n",
              "      <td>0.055208</td>\n",
              "      <td>0.115622</td>\n",
              "      <td>0.098738</td>\n",
              "      <td>0.167282</td>\n",
              "      <td>0.245788</td>\n",
              "      <td>0.429261</td>\n",
              "      <td>0.018997</td>\n",
              "      <td>0.016764</td>\n",
              "      <td>0.019955</td>\n",
              "      <td>0.045030</td>\n",
              "      <td>0.104228</td>\n",
              "      <td>0.227389</td>\n",
              "      <td>0.144581</td>\n",
              "      <td>0.048101</td>\n",
              "      <td>0.356929</td>\n",
              "      <td>0.311427</td>\n",
              "      <td>0.020584</td>\n",
              "      <td>0.016311</td>\n",
              "      <td>0.003543</td>\n",
              "      <td>0.002399</td>\n",
              "      <td>0.020217</td>\n",
              "      <td>0.079115</td>\n",
              "      <td>0.342116</td>\n",
              "      <td>0.357136</td>\n",
              "      <td>0.023378</td>\n",
              "      <td>...</td>\n",
              "      <td>0.086825</td>\n",
              "      <td>0.114661</td>\n",
              "      <td>0.291040</td>\n",
              "      <td>0.117610</td>\n",
              "      <td>0.000282</td>\n",
              "      <td>0.007663</td>\n",
              "      <td>0.101296</td>\n",
              "      <td>0.059343</td>\n",
              "      <td>0.014748</td>\n",
              "      <td>0.017197</td>\n",
              "      <td>0.060911</td>\n",
              "      <td>0.007945</td>\n",
              "      <td>0.000368</td>\n",
              "      <td>0.025109</td>\n",
              "      <td>0.466666</td>\n",
              "      <td>0.140878</td>\n",
              "      <td>0.009753</td>\n",
              "      <td>0.013572</td>\n",
              "      <td>0.019532</td>\n",
              "      <td>0.000000</td>\n",
              "      <td>0.013675</td>\n",
              "      <td>0.059308</td>\n",
              "      <td>0.676282</td>\n",
              "      <td>0.041870</td>\n",
              "      <td>0.089205</td>\n",
              "      <td>0.064391</td>\n",
              "      <td>0.135832</td>\n",
              "      <td>0.016529</td>\n",
              "      <td>0.001064</td>\n",
              "      <td>0.005590</td>\n",
              "      <td>0.133640</td>\n",
              "      <td>0.058513</td>\n",
              "      <td>0.068571</td>\n",
              "      <td>0.088442</td>\n",
              "      <td>0.114209</td>\n",
              "      <td>0.075747</td>\n",
              "      <td>0.019348</td>\n",
              "      <td>0.007773</td>\n",
              "      <td>0.336546</td>\n",
              "      <td>0</td>\n",
              "    </tr>\n",
              "    <tr>\n",
              "      <th>4</th>\n",
              "      <td>0.109809</td>\n",
              "      <td>0.049416</td>\n",
              "      <td>0.000206</td>\n",
              "      <td>0.034962</td>\n",
              "      <td>0.428900</td>\n",
              "      <td>0.045921</td>\n",
              "      <td>0.001986</td>\n",
              "      <td>0.013491</td>\n",
              "      <td>0.193928</td>\n",
              "      <td>0.070295</td>\n",
              "      <td>0.017230</td>\n",
              "      <td>0.088495</td>\n",
              "      <td>0.334584</td>\n",
              "      <td>0.048942</td>\n",
              "      <td>0.020809</td>\n",
              "      <td>0.038173</td>\n",
              "      <td>0.154890</td>\n",
              "      <td>0.041355</td>\n",
              "      <td>0.012564</td>\n",
              "      <td>0.086536</td>\n",
              "      <td>0.462236</td>\n",
              "      <td>0.052928</td>\n",
              "      <td>0.007944</td>\n",
              "      <td>0.018456</td>\n",
              "      <td>0.100333</td>\n",
              "      <td>0.120207</td>\n",
              "      <td>0.266226</td>\n",
              "      <td>0.289594</td>\n",
              "      <td>0.389719</td>\n",
              "      <td>0.055159</td>\n",
              "      <td>0.030201</td>\n",
              "      <td>0.011018</td>\n",
              "      <td>0.161546</td>\n",
              "      <td>0.027468</td>\n",
              "      <td>0.029685</td>\n",
              "      <td>0.087095</td>\n",
              "      <td>0.151991</td>\n",
              "      <td>0.127132</td>\n",
              "      <td>0.166441</td>\n",
              "      <td>0.100937</td>\n",
              "      <td>...</td>\n",
              "      <td>0.018025</td>\n",
              "      <td>0.041075</td>\n",
              "      <td>0.168102</td>\n",
              "      <td>0.051055</td>\n",
              "      <td>0.002203</td>\n",
              "      <td>0.031068</td>\n",
              "      <td>0.124340</td>\n",
              "      <td>0.236702</td>\n",
              "      <td>0.018377</td>\n",
              "      <td>0.004290</td>\n",
              "      <td>0.007833</td>\n",
              "      <td>0.005589</td>\n",
              "      <td>0.003926</td>\n",
              "      <td>0.048045</td>\n",
              "      <td>0.515131</td>\n",
              "      <td>0.219238</td>\n",
              "      <td>0.123248</td>\n",
              "      <td>0.017909</td>\n",
              "      <td>0.023501</td>\n",
              "      <td>0.009108</td>\n",
              "      <td>0.002287</td>\n",
              "      <td>0.053326</td>\n",
              "      <td>0.427298</td>\n",
              "      <td>0.030839</td>\n",
              "      <td>0.006291</td>\n",
              "      <td>0.010453</td>\n",
              "      <td>0.115986</td>\n",
              "      <td>0.069219</td>\n",
              "      <td>0.000064</td>\n",
              "      <td>0.047431</td>\n",
              "      <td>0.237433</td>\n",
              "      <td>0.049901</td>\n",
              "      <td>0.012061</td>\n",
              "      <td>0.019783</td>\n",
              "      <td>0.103546</td>\n",
              "      <td>0.041708</td>\n",
              "      <td>0.000727</td>\n",
              "      <td>0.108621</td>\n",
              "      <td>0.482985</td>\n",
              "      <td>0</td>\n",
              "    </tr>\n",
              "  </tbody>\n",
              "</table>\n",
              "<p>5 rows × 1569 columns</p>\n",
              "</div>"
            ],
            "text/plain": [
              "       0         1         2         3     ...      1565      1566      1567  1568\n",
              "0  0.084114  0.012509  0.001139  0.041691  ...  0.554959  0.071317  0.004744     0\n",
              "1  0.042234  0.010996  0.000139  0.106656  ...  0.125168  0.012118  0.143777     0\n",
              "2  0.089617  0.080208  0.011471  0.053661  ...  0.047458  0.018792  0.205772     0\n",
              "3  0.124598  0.086021  0.008510  0.063973  ...  0.019348  0.007773  0.336546     0\n",
              "4  0.109809  0.049416  0.000206  0.034962  ...  0.000727  0.108621  0.482985     0\n",
              "\n",
              "[5 rows x 1569 columns]"
            ]
          },
          "metadata": {
            "tags": []
          },
          "execution_count": 6
        }
      ]
    },
    {
      "cell_type": "code",
      "metadata": {
        "id": "EIMoPbE2jIfx",
        "colab_type": "code",
        "outputId": "96dc76fe-5077-42e8-ea1b-ee8dfaa40333",
        "colab": {
          "base_uri": "https://localhost:8080/",
          "height": 36
        }
      },
      "source": [
        "df.shape"
      ],
      "execution_count": 0,
      "outputs": [
        {
          "output_type": "execute_result",
          "data": {
            "text/plain": [
              "(39209, 1569)"
            ]
          },
          "metadata": {
            "tags": []
          },
          "execution_count": 7
        }
      ]
    },
    {
      "cell_type": "code",
      "metadata": {
        "id": "5DeVu8SNuQ84",
        "colab_type": "code",
        "colab": {}
      },
      "source": [
        "import pickle\n",
        "with open('drive/My Drive/Colab Notebooks/Datasets/data.pd', 'wb') as handle:\n",
        "    pickle.dump(df, handle)"
      ],
      "execution_count": 0,
      "outputs": []
    },
    {
      "cell_type": "code",
      "metadata": {
        "id": "4yWOr60sl4hN",
        "colab_type": "code",
        "colab": {}
      },
      "source": [
        ""
      ],
      "execution_count": 0,
      "outputs": []
    },
    {
      "cell_type": "code",
      "metadata": {
        "id": "FwH-3YazC5lV",
        "colab_type": "code",
        "colab": {}
      },
      "source": [
        "\n",
        "\n",
        "import matplotlib.pyplot as plt\n",
        "import csv\n",
        "\n",
        "# function for reading the images\n",
        "# arguments: path to the traffic sign data\n",
        "# returns: create a csv file of HoG images features\n",
        "\n",
        "def readTrafficSignsTest(rootpath):\n",
        "    '''Reads traffic sign data \n",
        "    Arguments: path to the traffic sign data\n",
        "    Returns:   create a csv file of HoG images features'''\n",
        "    prefix = rootpath + '/'\n",
        "    gtFile = open('Test_VeriteTerrain(GT).csv') # annotations file\n",
        "    gtReader = csv.reader(gtFile, delimiter=';') # csv parser for annotations file\n",
        "\n",
        "    next(gtReader) # skip header\n",
        "    # loop over all images in current annotations file\n",
        "    for row in gtReader:\n",
        "        file_name = row[0][:-4] #remove .ppm in the image name\n",
        "        f_open = open(prefix + file_name+ '.txt', 'r')\n",
        "        feateares = f_open.read().strip().split('\\n')\n",
        "        img_feateares=''\n",
        "        for one_feateare in feateares:\n",
        "          img_feateares=img_feateares+one_feateare+';'\n",
        "        img_feateares=img_feateares+row[7]+'\\n'# the 8th column is the label\n",
        "        fichier = open(\"test.csv\", \"a\")\n",
        "        fichier.write(img_feateares)\n",
        "        fichier.close()\n",
        "    gtFile.close()\n",
        "    print(\"End build csv file\")"
      ],
      "execution_count": 0,
      "outputs": []
    },
    {
      "cell_type": "code",
      "metadata": {
        "id": "Hef0IFGKbRE6",
        "colab_type": "code",
        "outputId": "f9424600-df50-48a6-bb81-cf42aa93e1c6",
        "colab": {
          "base_uri": "https://localhost:8080/",
          "height": 36
        }
      },
      "source": [
        "file_path = '/Database/BaseDeTest/Test_HOG/HOG_02'\n",
        "readTrafficSignsTest(file_path)"
      ],
      "execution_count": 0,
      "outputs": [
        {
          "output_type": "stream",
          "text": [
            "End build csv file\n"
          ],
          "name": "stdout"
        }
      ]
    },
    {
      "cell_type": "code",
      "metadata": {
        "id": "m5sgoXVQF1mc",
        "colab_type": "code",
        "outputId": "a7bc6882-f6d2-46e2-b996-64e72f27f6e1",
        "colab": {
          "base_uri": "https://localhost:8080/",
          "height": 253
        }
      },
      "source": [
        "import pandas as pd\n",
        "df_test = pd.read_csv('test.csv', header=None, sep=';')\n",
        "df_test.head()"
      ],
      "execution_count": 0,
      "outputs": [
        {
          "output_type": "execute_result",
          "data": {
            "text/html": [
              "<div>\n",
              "<style scoped>\n",
              "    .dataframe tbody tr th:only-of-type {\n",
              "        vertical-align: middle;\n",
              "    }\n",
              "\n",
              "    .dataframe tbody tr th {\n",
              "        vertical-align: top;\n",
              "    }\n",
              "\n",
              "    .dataframe thead th {\n",
              "        text-align: right;\n",
              "    }\n",
              "</style>\n",
              "<table border=\"1\" class=\"dataframe\">\n",
              "  <thead>\n",
              "    <tr style=\"text-align: right;\">\n",
              "      <th></th>\n",
              "      <th>0</th>\n",
              "      <th>1</th>\n",
              "      <th>2</th>\n",
              "      <th>3</th>\n",
              "      <th>4</th>\n",
              "      <th>5</th>\n",
              "      <th>6</th>\n",
              "      <th>7</th>\n",
              "      <th>8</th>\n",
              "      <th>9</th>\n",
              "      <th>10</th>\n",
              "      <th>11</th>\n",
              "      <th>12</th>\n",
              "      <th>13</th>\n",
              "      <th>14</th>\n",
              "      <th>15</th>\n",
              "      <th>16</th>\n",
              "      <th>17</th>\n",
              "      <th>18</th>\n",
              "      <th>19</th>\n",
              "      <th>20</th>\n",
              "      <th>21</th>\n",
              "      <th>22</th>\n",
              "      <th>23</th>\n",
              "      <th>24</th>\n",
              "      <th>25</th>\n",
              "      <th>26</th>\n",
              "      <th>27</th>\n",
              "      <th>28</th>\n",
              "      <th>29</th>\n",
              "      <th>30</th>\n",
              "      <th>31</th>\n",
              "      <th>32</th>\n",
              "      <th>33</th>\n",
              "      <th>34</th>\n",
              "      <th>35</th>\n",
              "      <th>36</th>\n",
              "      <th>37</th>\n",
              "      <th>38</th>\n",
              "      <th>39</th>\n",
              "      <th>...</th>\n",
              "      <th>1529</th>\n",
              "      <th>1530</th>\n",
              "      <th>1531</th>\n",
              "      <th>1532</th>\n",
              "      <th>1533</th>\n",
              "      <th>1534</th>\n",
              "      <th>1535</th>\n",
              "      <th>1536</th>\n",
              "      <th>1537</th>\n",
              "      <th>1538</th>\n",
              "      <th>1539</th>\n",
              "      <th>1540</th>\n",
              "      <th>1541</th>\n",
              "      <th>1542</th>\n",
              "      <th>1543</th>\n",
              "      <th>1544</th>\n",
              "      <th>1545</th>\n",
              "      <th>1546</th>\n",
              "      <th>1547</th>\n",
              "      <th>1548</th>\n",
              "      <th>1549</th>\n",
              "      <th>1550</th>\n",
              "      <th>1551</th>\n",
              "      <th>1552</th>\n",
              "      <th>1553</th>\n",
              "      <th>1554</th>\n",
              "      <th>1555</th>\n",
              "      <th>1556</th>\n",
              "      <th>1557</th>\n",
              "      <th>1558</th>\n",
              "      <th>1559</th>\n",
              "      <th>1560</th>\n",
              "      <th>1561</th>\n",
              "      <th>1562</th>\n",
              "      <th>1563</th>\n",
              "      <th>1564</th>\n",
              "      <th>1565</th>\n",
              "      <th>1566</th>\n",
              "      <th>1567</th>\n",
              "      <th>1568</th>\n",
              "    </tr>\n",
              "  </thead>\n",
              "  <tbody>\n",
              "    <tr>\n",
              "      <th>0</th>\n",
              "      <td>0.077112</td>\n",
              "      <td>0.049983</td>\n",
              "      <td>0.143680</td>\n",
              "      <td>0.151308</td>\n",
              "      <td>0.038555</td>\n",
              "      <td>0.082894</td>\n",
              "      <td>0.166349</td>\n",
              "      <td>0.090185</td>\n",
              "      <td>0.104188</td>\n",
              "      <td>0.100738</td>\n",
              "      <td>0.215535</td>\n",
              "      <td>0.177288</td>\n",
              "      <td>0.055930</td>\n",
              "      <td>0.063975</td>\n",
              "      <td>0.099278</td>\n",
              "      <td>0.140718</td>\n",
              "      <td>0.171471</td>\n",
              "      <td>0.095544</td>\n",
              "      <td>0.120509</td>\n",
              "      <td>0.089032</td>\n",
              "      <td>0.036453</td>\n",
              "      <td>0.142469</td>\n",
              "      <td>0.134749</td>\n",
              "      <td>0.060350</td>\n",
              "      <td>0.377701</td>\n",
              "      <td>0.265219</td>\n",
              "      <td>0.163308</td>\n",
              "      <td>0.141554</td>\n",
              "      <td>0.073729</td>\n",
              "      <td>0.074374</td>\n",
              "      <td>0.126787</td>\n",
              "      <td>0.103715</td>\n",
              "      <td>0.012444</td>\n",
              "      <td>0.019049</td>\n",
              "      <td>0.027556</td>\n",
              "      <td>0.022371</td>\n",
              "      <td>0.007593</td>\n",
              "      <td>0.003344</td>\n",
              "      <td>0.002644</td>\n",
              "      <td>0.012993</td>\n",
              "      <td>...</td>\n",
              "      <td>0.008126</td>\n",
              "      <td>0.006722</td>\n",
              "      <td>0.007335</td>\n",
              "      <td>0.091184</td>\n",
              "      <td>0.063797</td>\n",
              "      <td>0.015779</td>\n",
              "      <td>0.001250</td>\n",
              "      <td>0.039124</td>\n",
              "      <td>0.086540</td>\n",
              "      <td>0.075368</td>\n",
              "      <td>0.019438</td>\n",
              "      <td>0.473649</td>\n",
              "      <td>0.637056</td>\n",
              "      <td>0.015327</td>\n",
              "      <td>0.012919</td>\n",
              "      <td>0.106883</td>\n",
              "      <td>0.143415</td>\n",
              "      <td>0.087703</td>\n",
              "      <td>0.025112</td>\n",
              "      <td>0.024885</td>\n",
              "      <td>0.038218</td>\n",
              "      <td>0.010486</td>\n",
              "      <td>0.024725</td>\n",
              "      <td>0.047442</td>\n",
              "      <td>0.106276</td>\n",
              "      <td>0.083919</td>\n",
              "      <td>0.047099</td>\n",
              "      <td>0.069653</td>\n",
              "      <td>0.105911</td>\n",
              "      <td>0.030990</td>\n",
              "      <td>0.009593</td>\n",
              "      <td>0.095782</td>\n",
              "      <td>0.164022</td>\n",
              "      <td>0.101219</td>\n",
              "      <td>0.056227</td>\n",
              "      <td>0.084591</td>\n",
              "      <td>0.029830</td>\n",
              "      <td>0.006890</td>\n",
              "      <td>0.018699</td>\n",
              "      <td>16</td>\n",
              "    </tr>\n",
              "    <tr>\n",
              "      <th>1</th>\n",
              "      <td>0.119052</td>\n",
              "      <td>0.003266</td>\n",
              "      <td>0.006143</td>\n",
              "      <td>0.247642</td>\n",
              "      <td>0.188298</td>\n",
              "      <td>0.013261</td>\n",
              "      <td>0.002400</td>\n",
              "      <td>0.108383</td>\n",
              "      <td>0.101999</td>\n",
              "      <td>0.017423</td>\n",
              "      <td>0.004926</td>\n",
              "      <td>0.266080</td>\n",
              "      <td>0.295208</td>\n",
              "      <td>0.013048</td>\n",
              "      <td>0.001328</td>\n",
              "      <td>0.153389</td>\n",
              "      <td>0.315290</td>\n",
              "      <td>0.023825</td>\n",
              "      <td>0.031323</td>\n",
              "      <td>0.182069</td>\n",
              "      <td>0.206065</td>\n",
              "      <td>0.010951</td>\n",
              "      <td>0.001659</td>\n",
              "      <td>0.334060</td>\n",
              "      <td>0.274764</td>\n",
              "      <td>0.048709</td>\n",
              "      <td>0.029293</td>\n",
              "      <td>0.129379</td>\n",
              "      <td>0.185493</td>\n",
              "      <td>0.116980</td>\n",
              "      <td>0.092102</td>\n",
              "      <td>0.378674</td>\n",
              "      <td>0.030642</td>\n",
              "      <td>0.017596</td>\n",
              "      <td>0.008270</td>\n",
              "      <td>0.133062</td>\n",
              "      <td>0.142838</td>\n",
              "      <td>0.001929</td>\n",
              "      <td>0.001568</td>\n",
              "      <td>0.045484</td>\n",
              "      <td>...</td>\n",
              "      <td>0.127043</td>\n",
              "      <td>0.037253</td>\n",
              "      <td>0.057937</td>\n",
              "      <td>0.097563</td>\n",
              "      <td>0.026142</td>\n",
              "      <td>0.007395</td>\n",
              "      <td>0.014669</td>\n",
              "      <td>0.395792</td>\n",
              "      <td>0.390840</td>\n",
              "      <td>0.049571</td>\n",
              "      <td>0.127127</td>\n",
              "      <td>0.142368</td>\n",
              "      <td>0.036735</td>\n",
              "      <td>0.011474</td>\n",
              "      <td>0.079633</td>\n",
              "      <td>0.178549</td>\n",
              "      <td>0.028302</td>\n",
              "      <td>0.073083</td>\n",
              "      <td>0.214105</td>\n",
              "      <td>0.096671</td>\n",
              "      <td>0.023134</td>\n",
              "      <td>0.032192</td>\n",
              "      <td>0.427316</td>\n",
              "      <td>0.047514</td>\n",
              "      <td>0.076725</td>\n",
              "      <td>0.060989</td>\n",
              "      <td>0.167363</td>\n",
              "      <td>0.246273</td>\n",
              "      <td>0.067284</td>\n",
              "      <td>0.031518</td>\n",
              "      <td>0.025786</td>\n",
              "      <td>0.002323</td>\n",
              "      <td>0.026539</td>\n",
              "      <td>0.213288</td>\n",
              "      <td>0.317063</td>\n",
              "      <td>0.171908</td>\n",
              "      <td>0.053293</td>\n",
              "      <td>0.022978</td>\n",
              "      <td>0.010473</td>\n",
              "      <td>1</td>\n",
              "    </tr>\n",
              "    <tr>\n",
              "      <th>2</th>\n",
              "      <td>0.000000</td>\n",
              "      <td>0.000000</td>\n",
              "      <td>0.000000</td>\n",
              "      <td>0.000000</td>\n",
              "      <td>0.000000</td>\n",
              "      <td>0.309462</td>\n",
              "      <td>0.351681</td>\n",
              "      <td>0.000060</td>\n",
              "      <td>0.010713</td>\n",
              "      <td>0.148502</td>\n",
              "      <td>0.104254</td>\n",
              "      <td>0.000000</td>\n",
              "      <td>0.000000</td>\n",
              "      <td>0.208257</td>\n",
              "      <td>0.217466</td>\n",
              "      <td>0.001007</td>\n",
              "      <td>0.000000</td>\n",
              "      <td>0.000000</td>\n",
              "      <td>0.000000</td>\n",
              "      <td>0.000000</td>\n",
              "      <td>0.000000</td>\n",
              "      <td>0.393222</td>\n",
              "      <td>0.447801</td>\n",
              "      <td>0.000000</td>\n",
              "      <td>0.006520</td>\n",
              "      <td>0.130205</td>\n",
              "      <td>0.177812</td>\n",
              "      <td>0.010616</td>\n",
              "      <td>0.022378</td>\n",
              "      <td>0.261561</td>\n",
              "      <td>0.278857</td>\n",
              "      <td>0.001151</td>\n",
              "      <td>0.004384</td>\n",
              "      <td>0.069356</td>\n",
              "      <td>0.060222</td>\n",
              "      <td>0.000000</td>\n",
              "      <td>0.000000</td>\n",
              "      <td>0.127693</td>\n",
              "      <td>0.179755</td>\n",
              "      <td>0.001161</td>\n",
              "      <td>...</td>\n",
              "      <td>0.452165</td>\n",
              "      <td>0.447671</td>\n",
              "      <td>0.033033</td>\n",
              "      <td>0.023920</td>\n",
              "      <td>0.003452</td>\n",
              "      <td>0.000924</td>\n",
              "      <td>0.004349</td>\n",
              "      <td>0.018030</td>\n",
              "      <td>0.385495</td>\n",
              "      <td>0.312827</td>\n",
              "      <td>0.000000</td>\n",
              "      <td>0.000529</td>\n",
              "      <td>0.005570</td>\n",
              "      <td>0.008301</td>\n",
              "      <td>0.006485</td>\n",
              "      <td>0.021533</td>\n",
              "      <td>0.157817</td>\n",
              "      <td>0.107365</td>\n",
              "      <td>0.000000</td>\n",
              "      <td>0.013324</td>\n",
              "      <td>0.134879</td>\n",
              "      <td>0.064517</td>\n",
              "      <td>0.048551</td>\n",
              "      <td>0.002916</td>\n",
              "      <td>0.430287</td>\n",
              "      <td>0.472690</td>\n",
              "      <td>0.000000</td>\n",
              "      <td>0.000000</td>\n",
              "      <td>0.024807</td>\n",
              "      <td>0.012307</td>\n",
              "      <td>0.000395</td>\n",
              "      <td>0.000000</td>\n",
              "      <td>0.208758</td>\n",
              "      <td>0.179007</td>\n",
              "      <td>0.000000</td>\n",
              "      <td>0.042548</td>\n",
              "      <td>0.374231</td>\n",
              "      <td>0.062075</td>\n",
              "      <td>0.001808</td>\n",
              "      <td>38</td>\n",
              "    </tr>\n",
              "    <tr>\n",
              "      <th>3</th>\n",
              "      <td>0.026402</td>\n",
              "      <td>0.036410</td>\n",
              "      <td>0.091313</td>\n",
              "      <td>0.107078</td>\n",
              "      <td>0.079168</td>\n",
              "      <td>0.111932</td>\n",
              "      <td>0.039147</td>\n",
              "      <td>0.007433</td>\n",
              "      <td>0.013309</td>\n",
              "      <td>0.009527</td>\n",
              "      <td>0.015879</td>\n",
              "      <td>0.080135</td>\n",
              "      <td>0.295904</td>\n",
              "      <td>0.388529</td>\n",
              "      <td>0.182774</td>\n",
              "      <td>0.070541</td>\n",
              "      <td>0.002436</td>\n",
              "      <td>0.003864</td>\n",
              "      <td>0.142704</td>\n",
              "      <td>0.374793</td>\n",
              "      <td>0.298518</td>\n",
              "      <td>0.097773</td>\n",
              "      <td>0.009539</td>\n",
              "      <td>0.000000</td>\n",
              "      <td>0.002447</td>\n",
              "      <td>0.001580</td>\n",
              "      <td>0.013639</td>\n",
              "      <td>0.375906</td>\n",
              "      <td>0.408877</td>\n",
              "      <td>0.203929</td>\n",
              "      <td>0.106511</td>\n",
              "      <td>0.110688</td>\n",
              "      <td>0.001214</td>\n",
              "      <td>0.000088</td>\n",
              "      <td>0.004111</td>\n",
              "      <td>0.062549</td>\n",
              "      <td>0.253033</td>\n",
              "      <td>0.245725</td>\n",
              "      <td>0.326384</td>\n",
              "      <td>0.126469</td>\n",
              "      <td>...</td>\n",
              "      <td>0.055659</td>\n",
              "      <td>0.358907</td>\n",
              "      <td>0.129007</td>\n",
              "      <td>0.031768</td>\n",
              "      <td>0.097295</td>\n",
              "      <td>0.092958</td>\n",
              "      <td>0.141710</td>\n",
              "      <td>0.100115</td>\n",
              "      <td>0.028620</td>\n",
              "      <td>0.058216</td>\n",
              "      <td>0.096667</td>\n",
              "      <td>0.100782</td>\n",
              "      <td>0.203848</td>\n",
              "      <td>0.138290</td>\n",
              "      <td>0.172493</td>\n",
              "      <td>0.236578</td>\n",
              "      <td>0.049182</td>\n",
              "      <td>0.052278</td>\n",
              "      <td>0.102717</td>\n",
              "      <td>0.179673</td>\n",
              "      <td>0.180185</td>\n",
              "      <td>0.098016</td>\n",
              "      <td>0.322441</td>\n",
              "      <td>0.111612</td>\n",
              "      <td>0.068713</td>\n",
              "      <td>0.170322</td>\n",
              "      <td>0.070401</td>\n",
              "      <td>0.027510</td>\n",
              "      <td>0.046111</td>\n",
              "      <td>0.089039</td>\n",
              "      <td>0.199487</td>\n",
              "      <td>0.152112</td>\n",
              "      <td>0.166327</td>\n",
              "      <td>0.176707</td>\n",
              "      <td>0.011758</td>\n",
              "      <td>0.122038</td>\n",
              "      <td>0.548236</td>\n",
              "      <td>0.144410</td>\n",
              "      <td>0.222143</td>\n",
              "      <td>33</td>\n",
              "    </tr>\n",
              "    <tr>\n",
              "      <th>4</th>\n",
              "      <td>0.042312</td>\n",
              "      <td>0.139276</td>\n",
              "      <td>0.093038</td>\n",
              "      <td>0.039349</td>\n",
              "      <td>0.156275</td>\n",
              "      <td>0.304959</td>\n",
              "      <td>0.044027</td>\n",
              "      <td>0.028507</td>\n",
              "      <td>0.119267</td>\n",
              "      <td>0.188071</td>\n",
              "      <td>0.210651</td>\n",
              "      <td>0.100037</td>\n",
              "      <td>0.233653</td>\n",
              "      <td>0.214910</td>\n",
              "      <td>0.048232</td>\n",
              "      <td>0.048967</td>\n",
              "      <td>0.040066</td>\n",
              "      <td>0.103603</td>\n",
              "      <td>0.094565</td>\n",
              "      <td>0.185819</td>\n",
              "      <td>0.251838</td>\n",
              "      <td>0.203746</td>\n",
              "      <td>0.092921</td>\n",
              "      <td>0.043589</td>\n",
              "      <td>0.067133</td>\n",
              "      <td>0.133992</td>\n",
              "      <td>0.182767</td>\n",
              "      <td>0.194022</td>\n",
              "      <td>0.281615</td>\n",
              "      <td>0.329073</td>\n",
              "      <td>0.073014</td>\n",
              "      <td>0.047348</td>\n",
              "      <td>0.077590</td>\n",
              "      <td>0.085849</td>\n",
              "      <td>0.133501</td>\n",
              "      <td>0.119353</td>\n",
              "      <td>0.183468</td>\n",
              "      <td>0.094354</td>\n",
              "      <td>0.038752</td>\n",
              "      <td>0.026333</td>\n",
              "      <td>...</td>\n",
              "      <td>0.018236</td>\n",
              "      <td>0.153695</td>\n",
              "      <td>0.251007</td>\n",
              "      <td>0.055598</td>\n",
              "      <td>0.035857</td>\n",
              "      <td>0.148731</td>\n",
              "      <td>0.430347</td>\n",
              "      <td>0.066502</td>\n",
              "      <td>0.136286</td>\n",
              "      <td>0.167263</td>\n",
              "      <td>0.223180</td>\n",
              "      <td>0.046610</td>\n",
              "      <td>0.197649</td>\n",
              "      <td>0.136416</td>\n",
              "      <td>0.073898</td>\n",
              "      <td>0.016792</td>\n",
              "      <td>0.327745</td>\n",
              "      <td>0.350210</td>\n",
              "      <td>0.064759</td>\n",
              "      <td>0.044657</td>\n",
              "      <td>0.210486</td>\n",
              "      <td>0.139218</td>\n",
              "      <td>0.000000</td>\n",
              "      <td>0.139371</td>\n",
              "      <td>0.108506</td>\n",
              "      <td>0.138796</td>\n",
              "      <td>0.287241</td>\n",
              "      <td>0.080108</td>\n",
              "      <td>0.081362</td>\n",
              "      <td>0.097460</td>\n",
              "      <td>0.274602</td>\n",
              "      <td>0.149952</td>\n",
              "      <td>0.372411</td>\n",
              "      <td>0.133690</td>\n",
              "      <td>0.149661</td>\n",
              "      <td>0.089199</td>\n",
              "      <td>0.088972</td>\n",
              "      <td>0.045503</td>\n",
              "      <td>0.046976</td>\n",
              "      <td>11</td>\n",
              "    </tr>\n",
              "  </tbody>\n",
              "</table>\n",
              "<p>5 rows × 1569 columns</p>\n",
              "</div>"
            ],
            "text/plain": [
              "       0         1         2         3     ...      1565      1566      1567  1568\n",
              "0  0.077112  0.049983  0.143680  0.151308  ...  0.029830  0.006890  0.018699    16\n",
              "1  0.119052  0.003266  0.006143  0.247642  ...  0.053293  0.022978  0.010473     1\n",
              "2  0.000000  0.000000  0.000000  0.000000  ...  0.374231  0.062075  0.001808    38\n",
              "3  0.026402  0.036410  0.091313  0.107078  ...  0.548236  0.144410  0.222143    33\n",
              "4  0.042312  0.139276  0.093038  0.039349  ...  0.088972  0.045503  0.046976    11\n",
              "\n",
              "[5 rows x 1569 columns]"
            ]
          },
          "metadata": {
            "tags": []
          },
          "execution_count": 28
        }
      ]
    },
    {
      "cell_type": "code",
      "metadata": {
        "id": "TpI9BtDsGC23",
        "colab_type": "code",
        "outputId": "fa6084c6-b332-4f91-a63d-b0e87162f11a",
        "colab": {
          "base_uri": "https://localhost:8080/",
          "height": 36
        }
      },
      "source": [
        "df_test.shape"
      ],
      "execution_count": 0,
      "outputs": [
        {
          "output_type": "execute_result",
          "data": {
            "text/plain": [
              "(12630, 1569)"
            ]
          },
          "metadata": {
            "tags": []
          },
          "execution_count": 29
        }
      ]
    },
    {
      "cell_type": "code",
      "metadata": {
        "id": "QBYrklWvGBTE",
        "colab_type": "code",
        "colab": {}
      },
      "source": [
        "import pickle\n",
        "with open('drive/My Drive/Colab Notebooks/Datasets/test.pd', 'wb') as handle:\n",
        "    pickle.dump(df_test, handle)"
      ],
      "execution_count": 0,
      "outputs": []
    },
    {
      "cell_type": "code",
      "metadata": {
        "id": "8U5lkiNlmNts",
        "colab_type": "code",
        "colab": {}
      },
      "source": [
        ""
      ],
      "execution_count": 0,
      "outputs": []
    },
    {
      "cell_type": "code",
      "metadata": {
        "id": "z1OLZhjcF2OC",
        "colab_type": "code",
        "colab": {}
      },
      "source": [
        "#Chargement des donnée dumpé avec pickle\n",
        "#Nous avons dumpé des pandas dataframe\n",
        "import pickle\n",
        "\n",
        "with open('drive/My Drive/Colab Notebooks/Datasets/data.pd', 'rb') as handle:\n",
        "    df = pickle.load(handle)\n",
        "\n",
        "with open('drive/My Drive/Colab Notebooks/Datasets/test.pd', 'rb') as handle:\n",
        "    df_test = pickle.load(handle)    "
      ],
      "execution_count": 0,
      "outputs": []
    },
    {
      "cell_type": "code",
      "metadata": {
        "id": "OAjCeWyDnF4K",
        "colab_type": "code",
        "outputId": "e5658645-ce0f-4b74-fbe6-9d35fd6153b2",
        "colab": {
          "base_uri": "https://localhost:8080/",
          "height": 272
        }
      },
      "source": [
        "print(df.shape)\n",
        "df.head()"
      ],
      "execution_count": 0,
      "outputs": [
        {
          "output_type": "stream",
          "text": [
            "(39209, 1569)\n"
          ],
          "name": "stdout"
        },
        {
          "output_type": "execute_result",
          "data": {
            "text/html": [
              "<div>\n",
              "<style scoped>\n",
              "    .dataframe tbody tr th:only-of-type {\n",
              "        vertical-align: middle;\n",
              "    }\n",
              "\n",
              "    .dataframe tbody tr th {\n",
              "        vertical-align: top;\n",
              "    }\n",
              "\n",
              "    .dataframe thead th {\n",
              "        text-align: right;\n",
              "    }\n",
              "</style>\n",
              "<table border=\"1\" class=\"dataframe\">\n",
              "  <thead>\n",
              "    <tr style=\"text-align: right;\">\n",
              "      <th></th>\n",
              "      <th>0</th>\n",
              "      <th>1</th>\n",
              "      <th>2</th>\n",
              "      <th>3</th>\n",
              "      <th>4</th>\n",
              "      <th>5</th>\n",
              "      <th>6</th>\n",
              "      <th>7</th>\n",
              "      <th>8</th>\n",
              "      <th>9</th>\n",
              "      <th>10</th>\n",
              "      <th>11</th>\n",
              "      <th>12</th>\n",
              "      <th>13</th>\n",
              "      <th>14</th>\n",
              "      <th>15</th>\n",
              "      <th>16</th>\n",
              "      <th>17</th>\n",
              "      <th>18</th>\n",
              "      <th>19</th>\n",
              "      <th>20</th>\n",
              "      <th>21</th>\n",
              "      <th>22</th>\n",
              "      <th>23</th>\n",
              "      <th>24</th>\n",
              "      <th>25</th>\n",
              "      <th>26</th>\n",
              "      <th>27</th>\n",
              "      <th>28</th>\n",
              "      <th>29</th>\n",
              "      <th>30</th>\n",
              "      <th>31</th>\n",
              "      <th>32</th>\n",
              "      <th>33</th>\n",
              "      <th>34</th>\n",
              "      <th>35</th>\n",
              "      <th>36</th>\n",
              "      <th>37</th>\n",
              "      <th>38</th>\n",
              "      <th>39</th>\n",
              "      <th>...</th>\n",
              "      <th>1529</th>\n",
              "      <th>1530</th>\n",
              "      <th>1531</th>\n",
              "      <th>1532</th>\n",
              "      <th>1533</th>\n",
              "      <th>1534</th>\n",
              "      <th>1535</th>\n",
              "      <th>1536</th>\n",
              "      <th>1537</th>\n",
              "      <th>1538</th>\n",
              "      <th>1539</th>\n",
              "      <th>1540</th>\n",
              "      <th>1541</th>\n",
              "      <th>1542</th>\n",
              "      <th>1543</th>\n",
              "      <th>1544</th>\n",
              "      <th>1545</th>\n",
              "      <th>1546</th>\n",
              "      <th>1547</th>\n",
              "      <th>1548</th>\n",
              "      <th>1549</th>\n",
              "      <th>1550</th>\n",
              "      <th>1551</th>\n",
              "      <th>1552</th>\n",
              "      <th>1553</th>\n",
              "      <th>1554</th>\n",
              "      <th>1555</th>\n",
              "      <th>1556</th>\n",
              "      <th>1557</th>\n",
              "      <th>1558</th>\n",
              "      <th>1559</th>\n",
              "      <th>1560</th>\n",
              "      <th>1561</th>\n",
              "      <th>1562</th>\n",
              "      <th>1563</th>\n",
              "      <th>1564</th>\n",
              "      <th>1565</th>\n",
              "      <th>1566</th>\n",
              "      <th>1567</th>\n",
              "      <th>1568</th>\n",
              "    </tr>\n",
              "  </thead>\n",
              "  <tbody>\n",
              "    <tr>\n",
              "      <th>0</th>\n",
              "      <td>0.084114</td>\n",
              "      <td>0.012509</td>\n",
              "      <td>0.001139</td>\n",
              "      <td>0.041691</td>\n",
              "      <td>0.443293</td>\n",
              "      <td>0.033574</td>\n",
              "      <td>0.000213</td>\n",
              "      <td>0.010892</td>\n",
              "      <td>0.125005</td>\n",
              "      <td>0.072376</td>\n",
              "      <td>0.006039</td>\n",
              "      <td>0.044455</td>\n",
              "      <td>0.435786</td>\n",
              "      <td>0.064728</td>\n",
              "      <td>0.045807</td>\n",
              "      <td>0.058674</td>\n",
              "      <td>0.192964</td>\n",
              "      <td>0.040823</td>\n",
              "      <td>0.038744</td>\n",
              "      <td>0.142044</td>\n",
              "      <td>0.480704</td>\n",
              "      <td>0.036586</td>\n",
              "      <td>0.000000</td>\n",
              "      <td>0.022930</td>\n",
              "      <td>0.158162</td>\n",
              "      <td>0.085586</td>\n",
              "      <td>0.153284</td>\n",
              "      <td>0.293540</td>\n",
              "      <td>0.280026</td>\n",
              "      <td>0.076133</td>\n",
              "      <td>0.047578</td>\n",
              "      <td>0.035619</td>\n",
              "      <td>0.077658</td>\n",
              "      <td>0.054524</td>\n",
              "      <td>0.005042</td>\n",
              "      <td>0.018028</td>\n",
              "      <td>0.183104</td>\n",
              "      <td>0.106162</td>\n",
              "      <td>0.300339</td>\n",
              "      <td>0.111019</td>\n",
              "      <td>...</td>\n",
              "      <td>0.273770</td>\n",
              "      <td>0.121657</td>\n",
              "      <td>0.041059</td>\n",
              "      <td>0.036930</td>\n",
              "      <td>0.023378</td>\n",
              "      <td>0.026503</td>\n",
              "      <td>0.107648</td>\n",
              "      <td>0.139748</td>\n",
              "      <td>0.116941</td>\n",
              "      <td>0.124062</td>\n",
              "      <td>0.126452</td>\n",
              "      <td>0.031412</td>\n",
              "      <td>0.021391</td>\n",
              "      <td>0.006922</td>\n",
              "      <td>0.123032</td>\n",
              "      <td>0.129536</td>\n",
              "      <td>0.037063</td>\n",
              "      <td>0.046783</td>\n",
              "      <td>0.199411</td>\n",
              "      <td>0.219173</td>\n",
              "      <td>0.077214</td>\n",
              "      <td>0.024341</td>\n",
              "      <td>0.322829</td>\n",
              "      <td>0.072914</td>\n",
              "      <td>0.124794</td>\n",
              "      <td>0.115124</td>\n",
              "      <td>0.044732</td>\n",
              "      <td>0.049051</td>\n",
              "      <td>0.176152</td>\n",
              "      <td>0.042140</td>\n",
              "      <td>0.019567</td>\n",
              "      <td>0.044634</td>\n",
              "      <td>0.040081</td>\n",
              "      <td>0.042722</td>\n",
              "      <td>0.191935</td>\n",
              "      <td>0.371952</td>\n",
              "      <td>0.554959</td>\n",
              "      <td>0.071317</td>\n",
              "      <td>0.004744</td>\n",
              "      <td>0</td>\n",
              "    </tr>\n",
              "    <tr>\n",
              "      <th>1</th>\n",
              "      <td>0.042234</td>\n",
              "      <td>0.010996</td>\n",
              "      <td>0.000139</td>\n",
              "      <td>0.106656</td>\n",
              "      <td>0.431576</td>\n",
              "      <td>0.061183</td>\n",
              "      <td>0.000412</td>\n",
              "      <td>0.003250</td>\n",
              "      <td>0.077768</td>\n",
              "      <td>0.008534</td>\n",
              "      <td>0.000000</td>\n",
              "      <td>0.086742</td>\n",
              "      <td>0.439469</td>\n",
              "      <td>0.183968</td>\n",
              "      <td>0.077223</td>\n",
              "      <td>0.073741</td>\n",
              "      <td>0.176993</td>\n",
              "      <td>0.093957</td>\n",
              "      <td>0.041302</td>\n",
              "      <td>0.126331</td>\n",
              "      <td>0.443958</td>\n",
              "      <td>0.081025</td>\n",
              "      <td>0.000675</td>\n",
              "      <td>0.009133</td>\n",
              "      <td>0.186166</td>\n",
              "      <td>0.049147</td>\n",
              "      <td>0.087735</td>\n",
              "      <td>0.211209</td>\n",
              "      <td>0.238184</td>\n",
              "      <td>0.098414</td>\n",
              "      <td>0.239765</td>\n",
              "      <td>0.145102</td>\n",
              "      <td>0.022401</td>\n",
              "      <td>0.005190</td>\n",
              "      <td>0.000000</td>\n",
              "      <td>0.022031</td>\n",
              "      <td>0.126784</td>\n",
              "      <td>0.321207</td>\n",
              "      <td>0.208654</td>\n",
              "      <td>0.058249</td>\n",
              "      <td>...</td>\n",
              "      <td>0.098019</td>\n",
              "      <td>0.091205</td>\n",
              "      <td>0.108165</td>\n",
              "      <td>0.094924</td>\n",
              "      <td>0.007133</td>\n",
              "      <td>0.011339</td>\n",
              "      <td>0.061859</td>\n",
              "      <td>0.107373</td>\n",
              "      <td>0.025088</td>\n",
              "      <td>0.098446</td>\n",
              "      <td>0.102204</td>\n",
              "      <td>0.018499</td>\n",
              "      <td>0.000565</td>\n",
              "      <td>0.001575</td>\n",
              "      <td>0.365358</td>\n",
              "      <td>0.229380</td>\n",
              "      <td>0.015146</td>\n",
              "      <td>0.051255</td>\n",
              "      <td>0.083766</td>\n",
              "      <td>0.014316</td>\n",
              "      <td>0.000000</td>\n",
              "      <td>0.007598</td>\n",
              "      <td>0.652584</td>\n",
              "      <td>0.152075</td>\n",
              "      <td>0.047889</td>\n",
              "      <td>0.123778</td>\n",
              "      <td>0.085205</td>\n",
              "      <td>0.021854</td>\n",
              "      <td>0.017265</td>\n",
              "      <td>0.011444</td>\n",
              "      <td>0.050590</td>\n",
              "      <td>0.076776</td>\n",
              "      <td>0.023667</td>\n",
              "      <td>0.071095</td>\n",
              "      <td>0.219338</td>\n",
              "      <td>0.295188</td>\n",
              "      <td>0.125168</td>\n",
              "      <td>0.012118</td>\n",
              "      <td>0.143777</td>\n",
              "      <td>0</td>\n",
              "    </tr>\n",
              "    <tr>\n",
              "      <th>2</th>\n",
              "      <td>0.089617</td>\n",
              "      <td>0.080208</td>\n",
              "      <td>0.011471</td>\n",
              "      <td>0.053661</td>\n",
              "      <td>0.466442</td>\n",
              "      <td>0.026843</td>\n",
              "      <td>0.000000</td>\n",
              "      <td>0.016241</td>\n",
              "      <td>0.090332</td>\n",
              "      <td>0.085860</td>\n",
              "      <td>0.020544</td>\n",
              "      <td>0.041616</td>\n",
              "      <td>0.324918</td>\n",
              "      <td>0.101294</td>\n",
              "      <td>0.150956</td>\n",
              "      <td>0.090461</td>\n",
              "      <td>0.125183</td>\n",
              "      <td>0.089280</td>\n",
              "      <td>0.099953</td>\n",
              "      <td>0.203604</td>\n",
              "      <td>0.490225</td>\n",
              "      <td>0.030246</td>\n",
              "      <td>0.000000</td>\n",
              "      <td>0.025518</td>\n",
              "      <td>0.066473</td>\n",
              "      <td>0.128870</td>\n",
              "      <td>0.188204</td>\n",
              "      <td>0.233248</td>\n",
              "      <td>0.112596</td>\n",
              "      <td>0.289057</td>\n",
              "      <td>0.160155</td>\n",
              "      <td>0.036808</td>\n",
              "      <td>0.033466</td>\n",
              "      <td>0.014653</td>\n",
              "      <td>0.005625</td>\n",
              "      <td>0.008893</td>\n",
              "      <td>0.115329</td>\n",
              "      <td>0.241982</td>\n",
              "      <td>0.330389</td>\n",
              "      <td>0.080242</td>\n",
              "      <td>...</td>\n",
              "      <td>0.099684</td>\n",
              "      <td>0.036196</td>\n",
              "      <td>0.315712</td>\n",
              "      <td>0.131383</td>\n",
              "      <td>0.000000</td>\n",
              "      <td>0.000125</td>\n",
              "      <td>0.036367</td>\n",
              "      <td>0.081836</td>\n",
              "      <td>0.015582</td>\n",
              "      <td>0.027465</td>\n",
              "      <td>0.089598</td>\n",
              "      <td>0.036550</td>\n",
              "      <td>0.000000</td>\n",
              "      <td>0.016871</td>\n",
              "      <td>0.406918</td>\n",
              "      <td>0.222173</td>\n",
              "      <td>0.027702</td>\n",
              "      <td>0.040895</td>\n",
              "      <td>0.037954</td>\n",
              "      <td>0.004202</td>\n",
              "      <td>0.000000</td>\n",
              "      <td>0.024044</td>\n",
              "      <td>0.686508</td>\n",
              "      <td>0.204959</td>\n",
              "      <td>0.052816</td>\n",
              "      <td>0.057286</td>\n",
              "      <td>0.140188</td>\n",
              "      <td>0.045719</td>\n",
              "      <td>0.001459</td>\n",
              "      <td>0.004172</td>\n",
              "      <td>0.060764</td>\n",
              "      <td>0.161974</td>\n",
              "      <td>0.055433</td>\n",
              "      <td>0.087877</td>\n",
              "      <td>0.135764</td>\n",
              "      <td>0.116282</td>\n",
              "      <td>0.047458</td>\n",
              "      <td>0.018792</td>\n",
              "      <td>0.205772</td>\n",
              "      <td>0</td>\n",
              "    </tr>\n",
              "    <tr>\n",
              "      <th>3</th>\n",
              "      <td>0.124598</td>\n",
              "      <td>0.086021</td>\n",
              "      <td>0.008510</td>\n",
              "      <td>0.063973</td>\n",
              "      <td>0.390833</td>\n",
              "      <td>0.040249</td>\n",
              "      <td>0.014065</td>\n",
              "      <td>0.025400</td>\n",
              "      <td>0.088090</td>\n",
              "      <td>0.055588</td>\n",
              "      <td>0.012765</td>\n",
              "      <td>0.073985</td>\n",
              "      <td>0.197069</td>\n",
              "      <td>0.175948</td>\n",
              "      <td>0.267033</td>\n",
              "      <td>0.055208</td>\n",
              "      <td>0.115622</td>\n",
              "      <td>0.098738</td>\n",
              "      <td>0.167282</td>\n",
              "      <td>0.245788</td>\n",
              "      <td>0.429261</td>\n",
              "      <td>0.018997</td>\n",
              "      <td>0.016764</td>\n",
              "      <td>0.019955</td>\n",
              "      <td>0.045030</td>\n",
              "      <td>0.104228</td>\n",
              "      <td>0.227389</td>\n",
              "      <td>0.144581</td>\n",
              "      <td>0.048101</td>\n",
              "      <td>0.356929</td>\n",
              "      <td>0.311427</td>\n",
              "      <td>0.020584</td>\n",
              "      <td>0.016311</td>\n",
              "      <td>0.003543</td>\n",
              "      <td>0.002399</td>\n",
              "      <td>0.020217</td>\n",
              "      <td>0.079115</td>\n",
              "      <td>0.342116</td>\n",
              "      <td>0.357136</td>\n",
              "      <td>0.023378</td>\n",
              "      <td>...</td>\n",
              "      <td>0.086825</td>\n",
              "      <td>0.114661</td>\n",
              "      <td>0.291040</td>\n",
              "      <td>0.117610</td>\n",
              "      <td>0.000282</td>\n",
              "      <td>0.007663</td>\n",
              "      <td>0.101296</td>\n",
              "      <td>0.059343</td>\n",
              "      <td>0.014748</td>\n",
              "      <td>0.017197</td>\n",
              "      <td>0.060911</td>\n",
              "      <td>0.007945</td>\n",
              "      <td>0.000368</td>\n",
              "      <td>0.025109</td>\n",
              "      <td>0.466666</td>\n",
              "      <td>0.140878</td>\n",
              "      <td>0.009753</td>\n",
              "      <td>0.013572</td>\n",
              "      <td>0.019532</td>\n",
              "      <td>0.000000</td>\n",
              "      <td>0.013675</td>\n",
              "      <td>0.059308</td>\n",
              "      <td>0.676282</td>\n",
              "      <td>0.041870</td>\n",
              "      <td>0.089205</td>\n",
              "      <td>0.064391</td>\n",
              "      <td>0.135832</td>\n",
              "      <td>0.016529</td>\n",
              "      <td>0.001064</td>\n",
              "      <td>0.005590</td>\n",
              "      <td>0.133640</td>\n",
              "      <td>0.058513</td>\n",
              "      <td>0.068571</td>\n",
              "      <td>0.088442</td>\n",
              "      <td>0.114209</td>\n",
              "      <td>0.075747</td>\n",
              "      <td>0.019348</td>\n",
              "      <td>0.007773</td>\n",
              "      <td>0.336546</td>\n",
              "      <td>0</td>\n",
              "    </tr>\n",
              "    <tr>\n",
              "      <th>4</th>\n",
              "      <td>0.109809</td>\n",
              "      <td>0.049416</td>\n",
              "      <td>0.000206</td>\n",
              "      <td>0.034962</td>\n",
              "      <td>0.428900</td>\n",
              "      <td>0.045921</td>\n",
              "      <td>0.001986</td>\n",
              "      <td>0.013491</td>\n",
              "      <td>0.193928</td>\n",
              "      <td>0.070295</td>\n",
              "      <td>0.017230</td>\n",
              "      <td>0.088495</td>\n",
              "      <td>0.334584</td>\n",
              "      <td>0.048942</td>\n",
              "      <td>0.020809</td>\n",
              "      <td>0.038173</td>\n",
              "      <td>0.154890</td>\n",
              "      <td>0.041355</td>\n",
              "      <td>0.012564</td>\n",
              "      <td>0.086536</td>\n",
              "      <td>0.462236</td>\n",
              "      <td>0.052928</td>\n",
              "      <td>0.007944</td>\n",
              "      <td>0.018456</td>\n",
              "      <td>0.100333</td>\n",
              "      <td>0.120207</td>\n",
              "      <td>0.266226</td>\n",
              "      <td>0.289594</td>\n",
              "      <td>0.389719</td>\n",
              "      <td>0.055159</td>\n",
              "      <td>0.030201</td>\n",
              "      <td>0.011018</td>\n",
              "      <td>0.161546</td>\n",
              "      <td>0.027468</td>\n",
              "      <td>0.029685</td>\n",
              "      <td>0.087095</td>\n",
              "      <td>0.151991</td>\n",
              "      <td>0.127132</td>\n",
              "      <td>0.166441</td>\n",
              "      <td>0.100937</td>\n",
              "      <td>...</td>\n",
              "      <td>0.018025</td>\n",
              "      <td>0.041075</td>\n",
              "      <td>0.168102</td>\n",
              "      <td>0.051055</td>\n",
              "      <td>0.002203</td>\n",
              "      <td>0.031068</td>\n",
              "      <td>0.124340</td>\n",
              "      <td>0.236702</td>\n",
              "      <td>0.018377</td>\n",
              "      <td>0.004290</td>\n",
              "      <td>0.007833</td>\n",
              "      <td>0.005589</td>\n",
              "      <td>0.003926</td>\n",
              "      <td>0.048045</td>\n",
              "      <td>0.515131</td>\n",
              "      <td>0.219238</td>\n",
              "      <td>0.123248</td>\n",
              "      <td>0.017909</td>\n",
              "      <td>0.023501</td>\n",
              "      <td>0.009108</td>\n",
              "      <td>0.002287</td>\n",
              "      <td>0.053326</td>\n",
              "      <td>0.427298</td>\n",
              "      <td>0.030839</td>\n",
              "      <td>0.006291</td>\n",
              "      <td>0.010453</td>\n",
              "      <td>0.115986</td>\n",
              "      <td>0.069219</td>\n",
              "      <td>0.000064</td>\n",
              "      <td>0.047431</td>\n",
              "      <td>0.237433</td>\n",
              "      <td>0.049901</td>\n",
              "      <td>0.012061</td>\n",
              "      <td>0.019783</td>\n",
              "      <td>0.103546</td>\n",
              "      <td>0.041708</td>\n",
              "      <td>0.000727</td>\n",
              "      <td>0.108621</td>\n",
              "      <td>0.482985</td>\n",
              "      <td>0</td>\n",
              "    </tr>\n",
              "  </tbody>\n",
              "</table>\n",
              "<p>5 rows × 1569 columns</p>\n",
              "</div>"
            ],
            "text/plain": [
              "       0         1         2         3     ...      1565      1566      1567  1568\n",
              "0  0.084114  0.012509  0.001139  0.041691  ...  0.554959  0.071317  0.004744     0\n",
              "1  0.042234  0.010996  0.000139  0.106656  ...  0.125168  0.012118  0.143777     0\n",
              "2  0.089617  0.080208  0.011471  0.053661  ...  0.047458  0.018792  0.205772     0\n",
              "3  0.124598  0.086021  0.008510  0.063973  ...  0.019348  0.007773  0.336546     0\n",
              "4  0.109809  0.049416  0.000206  0.034962  ...  0.000727  0.108621  0.482985     0\n",
              "\n",
              "[5 rows x 1569 columns]"
            ]
          },
          "metadata": {
            "tags": []
          },
          "execution_count": 31
        }
      ]
    },
    {
      "cell_type": "code",
      "metadata": {
        "id": "R8Y-xlhSnRqy",
        "colab_type": "code",
        "outputId": "e96da84a-547a-4885-85e6-598c45186052",
        "colab": {
          "base_uri": "https://localhost:8080/",
          "height": 272
        }
      },
      "source": [
        "print(df_test.shape)\n",
        "df_test.head()"
      ],
      "execution_count": 0,
      "outputs": [
        {
          "output_type": "stream",
          "text": [
            "(12630, 1569)\n"
          ],
          "name": "stdout"
        },
        {
          "output_type": "execute_result",
          "data": {
            "text/html": [
              "<div>\n",
              "<style scoped>\n",
              "    .dataframe tbody tr th:only-of-type {\n",
              "        vertical-align: middle;\n",
              "    }\n",
              "\n",
              "    .dataframe tbody tr th {\n",
              "        vertical-align: top;\n",
              "    }\n",
              "\n",
              "    .dataframe thead th {\n",
              "        text-align: right;\n",
              "    }\n",
              "</style>\n",
              "<table border=\"1\" class=\"dataframe\">\n",
              "  <thead>\n",
              "    <tr style=\"text-align: right;\">\n",
              "      <th></th>\n",
              "      <th>0</th>\n",
              "      <th>1</th>\n",
              "      <th>2</th>\n",
              "      <th>3</th>\n",
              "      <th>4</th>\n",
              "      <th>5</th>\n",
              "      <th>6</th>\n",
              "      <th>7</th>\n",
              "      <th>8</th>\n",
              "      <th>9</th>\n",
              "      <th>10</th>\n",
              "      <th>11</th>\n",
              "      <th>12</th>\n",
              "      <th>13</th>\n",
              "      <th>14</th>\n",
              "      <th>15</th>\n",
              "      <th>16</th>\n",
              "      <th>17</th>\n",
              "      <th>18</th>\n",
              "      <th>19</th>\n",
              "      <th>20</th>\n",
              "      <th>21</th>\n",
              "      <th>22</th>\n",
              "      <th>23</th>\n",
              "      <th>24</th>\n",
              "      <th>25</th>\n",
              "      <th>26</th>\n",
              "      <th>27</th>\n",
              "      <th>28</th>\n",
              "      <th>29</th>\n",
              "      <th>30</th>\n",
              "      <th>31</th>\n",
              "      <th>32</th>\n",
              "      <th>33</th>\n",
              "      <th>34</th>\n",
              "      <th>35</th>\n",
              "      <th>36</th>\n",
              "      <th>37</th>\n",
              "      <th>38</th>\n",
              "      <th>39</th>\n",
              "      <th>...</th>\n",
              "      <th>1529</th>\n",
              "      <th>1530</th>\n",
              "      <th>1531</th>\n",
              "      <th>1532</th>\n",
              "      <th>1533</th>\n",
              "      <th>1534</th>\n",
              "      <th>1535</th>\n",
              "      <th>1536</th>\n",
              "      <th>1537</th>\n",
              "      <th>1538</th>\n",
              "      <th>1539</th>\n",
              "      <th>1540</th>\n",
              "      <th>1541</th>\n",
              "      <th>1542</th>\n",
              "      <th>1543</th>\n",
              "      <th>1544</th>\n",
              "      <th>1545</th>\n",
              "      <th>1546</th>\n",
              "      <th>1547</th>\n",
              "      <th>1548</th>\n",
              "      <th>1549</th>\n",
              "      <th>1550</th>\n",
              "      <th>1551</th>\n",
              "      <th>1552</th>\n",
              "      <th>1553</th>\n",
              "      <th>1554</th>\n",
              "      <th>1555</th>\n",
              "      <th>1556</th>\n",
              "      <th>1557</th>\n",
              "      <th>1558</th>\n",
              "      <th>1559</th>\n",
              "      <th>1560</th>\n",
              "      <th>1561</th>\n",
              "      <th>1562</th>\n",
              "      <th>1563</th>\n",
              "      <th>1564</th>\n",
              "      <th>1565</th>\n",
              "      <th>1566</th>\n",
              "      <th>1567</th>\n",
              "      <th>1568</th>\n",
              "    </tr>\n",
              "  </thead>\n",
              "  <tbody>\n",
              "    <tr>\n",
              "      <th>0</th>\n",
              "      <td>0.077112</td>\n",
              "      <td>0.049983</td>\n",
              "      <td>0.143680</td>\n",
              "      <td>0.151308</td>\n",
              "      <td>0.038555</td>\n",
              "      <td>0.082894</td>\n",
              "      <td>0.166349</td>\n",
              "      <td>0.090185</td>\n",
              "      <td>0.104188</td>\n",
              "      <td>0.100738</td>\n",
              "      <td>0.215535</td>\n",
              "      <td>0.177288</td>\n",
              "      <td>0.055930</td>\n",
              "      <td>0.063975</td>\n",
              "      <td>0.099278</td>\n",
              "      <td>0.140718</td>\n",
              "      <td>0.171471</td>\n",
              "      <td>0.095544</td>\n",
              "      <td>0.120509</td>\n",
              "      <td>0.089032</td>\n",
              "      <td>0.036453</td>\n",
              "      <td>0.142469</td>\n",
              "      <td>0.134749</td>\n",
              "      <td>0.060350</td>\n",
              "      <td>0.377701</td>\n",
              "      <td>0.265219</td>\n",
              "      <td>0.163308</td>\n",
              "      <td>0.141554</td>\n",
              "      <td>0.073729</td>\n",
              "      <td>0.074374</td>\n",
              "      <td>0.126787</td>\n",
              "      <td>0.103715</td>\n",
              "      <td>0.012444</td>\n",
              "      <td>0.019049</td>\n",
              "      <td>0.027556</td>\n",
              "      <td>0.022371</td>\n",
              "      <td>0.007593</td>\n",
              "      <td>0.003344</td>\n",
              "      <td>0.002644</td>\n",
              "      <td>0.012993</td>\n",
              "      <td>...</td>\n",
              "      <td>0.008126</td>\n",
              "      <td>0.006722</td>\n",
              "      <td>0.007335</td>\n",
              "      <td>0.091184</td>\n",
              "      <td>0.063797</td>\n",
              "      <td>0.015779</td>\n",
              "      <td>0.001250</td>\n",
              "      <td>0.039124</td>\n",
              "      <td>0.086540</td>\n",
              "      <td>0.075368</td>\n",
              "      <td>0.019438</td>\n",
              "      <td>0.473649</td>\n",
              "      <td>0.637056</td>\n",
              "      <td>0.015327</td>\n",
              "      <td>0.012919</td>\n",
              "      <td>0.106883</td>\n",
              "      <td>0.143415</td>\n",
              "      <td>0.087703</td>\n",
              "      <td>0.025112</td>\n",
              "      <td>0.024885</td>\n",
              "      <td>0.038218</td>\n",
              "      <td>0.010486</td>\n",
              "      <td>0.024725</td>\n",
              "      <td>0.047442</td>\n",
              "      <td>0.106276</td>\n",
              "      <td>0.083919</td>\n",
              "      <td>0.047099</td>\n",
              "      <td>0.069653</td>\n",
              "      <td>0.105911</td>\n",
              "      <td>0.030990</td>\n",
              "      <td>0.009593</td>\n",
              "      <td>0.095782</td>\n",
              "      <td>0.164022</td>\n",
              "      <td>0.101219</td>\n",
              "      <td>0.056227</td>\n",
              "      <td>0.084591</td>\n",
              "      <td>0.029830</td>\n",
              "      <td>0.006890</td>\n",
              "      <td>0.018699</td>\n",
              "      <td>16</td>\n",
              "    </tr>\n",
              "    <tr>\n",
              "      <th>1</th>\n",
              "      <td>0.119052</td>\n",
              "      <td>0.003266</td>\n",
              "      <td>0.006143</td>\n",
              "      <td>0.247642</td>\n",
              "      <td>0.188298</td>\n",
              "      <td>0.013261</td>\n",
              "      <td>0.002400</td>\n",
              "      <td>0.108383</td>\n",
              "      <td>0.101999</td>\n",
              "      <td>0.017423</td>\n",
              "      <td>0.004926</td>\n",
              "      <td>0.266080</td>\n",
              "      <td>0.295208</td>\n",
              "      <td>0.013048</td>\n",
              "      <td>0.001328</td>\n",
              "      <td>0.153389</td>\n",
              "      <td>0.315290</td>\n",
              "      <td>0.023825</td>\n",
              "      <td>0.031323</td>\n",
              "      <td>0.182069</td>\n",
              "      <td>0.206065</td>\n",
              "      <td>0.010951</td>\n",
              "      <td>0.001659</td>\n",
              "      <td>0.334060</td>\n",
              "      <td>0.274764</td>\n",
              "      <td>0.048709</td>\n",
              "      <td>0.029293</td>\n",
              "      <td>0.129379</td>\n",
              "      <td>0.185493</td>\n",
              "      <td>0.116980</td>\n",
              "      <td>0.092102</td>\n",
              "      <td>0.378674</td>\n",
              "      <td>0.030642</td>\n",
              "      <td>0.017596</td>\n",
              "      <td>0.008270</td>\n",
              "      <td>0.133062</td>\n",
              "      <td>0.142838</td>\n",
              "      <td>0.001929</td>\n",
              "      <td>0.001568</td>\n",
              "      <td>0.045484</td>\n",
              "      <td>...</td>\n",
              "      <td>0.127043</td>\n",
              "      <td>0.037253</td>\n",
              "      <td>0.057937</td>\n",
              "      <td>0.097563</td>\n",
              "      <td>0.026142</td>\n",
              "      <td>0.007395</td>\n",
              "      <td>0.014669</td>\n",
              "      <td>0.395792</td>\n",
              "      <td>0.390840</td>\n",
              "      <td>0.049571</td>\n",
              "      <td>0.127127</td>\n",
              "      <td>0.142368</td>\n",
              "      <td>0.036735</td>\n",
              "      <td>0.011474</td>\n",
              "      <td>0.079633</td>\n",
              "      <td>0.178549</td>\n",
              "      <td>0.028302</td>\n",
              "      <td>0.073083</td>\n",
              "      <td>0.214105</td>\n",
              "      <td>0.096671</td>\n",
              "      <td>0.023134</td>\n",
              "      <td>0.032192</td>\n",
              "      <td>0.427316</td>\n",
              "      <td>0.047514</td>\n",
              "      <td>0.076725</td>\n",
              "      <td>0.060989</td>\n",
              "      <td>0.167363</td>\n",
              "      <td>0.246273</td>\n",
              "      <td>0.067284</td>\n",
              "      <td>0.031518</td>\n",
              "      <td>0.025786</td>\n",
              "      <td>0.002323</td>\n",
              "      <td>0.026539</td>\n",
              "      <td>0.213288</td>\n",
              "      <td>0.317063</td>\n",
              "      <td>0.171908</td>\n",
              "      <td>0.053293</td>\n",
              "      <td>0.022978</td>\n",
              "      <td>0.010473</td>\n",
              "      <td>1</td>\n",
              "    </tr>\n",
              "    <tr>\n",
              "      <th>2</th>\n",
              "      <td>0.000000</td>\n",
              "      <td>0.000000</td>\n",
              "      <td>0.000000</td>\n",
              "      <td>0.000000</td>\n",
              "      <td>0.000000</td>\n",
              "      <td>0.309462</td>\n",
              "      <td>0.351681</td>\n",
              "      <td>0.000060</td>\n",
              "      <td>0.010713</td>\n",
              "      <td>0.148502</td>\n",
              "      <td>0.104254</td>\n",
              "      <td>0.000000</td>\n",
              "      <td>0.000000</td>\n",
              "      <td>0.208257</td>\n",
              "      <td>0.217466</td>\n",
              "      <td>0.001007</td>\n",
              "      <td>0.000000</td>\n",
              "      <td>0.000000</td>\n",
              "      <td>0.000000</td>\n",
              "      <td>0.000000</td>\n",
              "      <td>0.000000</td>\n",
              "      <td>0.393222</td>\n",
              "      <td>0.447801</td>\n",
              "      <td>0.000000</td>\n",
              "      <td>0.006520</td>\n",
              "      <td>0.130205</td>\n",
              "      <td>0.177812</td>\n",
              "      <td>0.010616</td>\n",
              "      <td>0.022378</td>\n",
              "      <td>0.261561</td>\n",
              "      <td>0.278857</td>\n",
              "      <td>0.001151</td>\n",
              "      <td>0.004384</td>\n",
              "      <td>0.069356</td>\n",
              "      <td>0.060222</td>\n",
              "      <td>0.000000</td>\n",
              "      <td>0.000000</td>\n",
              "      <td>0.127693</td>\n",
              "      <td>0.179755</td>\n",
              "      <td>0.001161</td>\n",
              "      <td>...</td>\n",
              "      <td>0.452165</td>\n",
              "      <td>0.447671</td>\n",
              "      <td>0.033033</td>\n",
              "      <td>0.023920</td>\n",
              "      <td>0.003452</td>\n",
              "      <td>0.000924</td>\n",
              "      <td>0.004349</td>\n",
              "      <td>0.018030</td>\n",
              "      <td>0.385495</td>\n",
              "      <td>0.312827</td>\n",
              "      <td>0.000000</td>\n",
              "      <td>0.000529</td>\n",
              "      <td>0.005570</td>\n",
              "      <td>0.008301</td>\n",
              "      <td>0.006485</td>\n",
              "      <td>0.021533</td>\n",
              "      <td>0.157817</td>\n",
              "      <td>0.107365</td>\n",
              "      <td>0.000000</td>\n",
              "      <td>0.013324</td>\n",
              "      <td>0.134879</td>\n",
              "      <td>0.064517</td>\n",
              "      <td>0.048551</td>\n",
              "      <td>0.002916</td>\n",
              "      <td>0.430287</td>\n",
              "      <td>0.472690</td>\n",
              "      <td>0.000000</td>\n",
              "      <td>0.000000</td>\n",
              "      <td>0.024807</td>\n",
              "      <td>0.012307</td>\n",
              "      <td>0.000395</td>\n",
              "      <td>0.000000</td>\n",
              "      <td>0.208758</td>\n",
              "      <td>0.179007</td>\n",
              "      <td>0.000000</td>\n",
              "      <td>0.042548</td>\n",
              "      <td>0.374231</td>\n",
              "      <td>0.062075</td>\n",
              "      <td>0.001808</td>\n",
              "      <td>38</td>\n",
              "    </tr>\n",
              "    <tr>\n",
              "      <th>3</th>\n",
              "      <td>0.026402</td>\n",
              "      <td>0.036410</td>\n",
              "      <td>0.091313</td>\n",
              "      <td>0.107078</td>\n",
              "      <td>0.079168</td>\n",
              "      <td>0.111932</td>\n",
              "      <td>0.039147</td>\n",
              "      <td>0.007433</td>\n",
              "      <td>0.013309</td>\n",
              "      <td>0.009527</td>\n",
              "      <td>0.015879</td>\n",
              "      <td>0.080135</td>\n",
              "      <td>0.295904</td>\n",
              "      <td>0.388529</td>\n",
              "      <td>0.182774</td>\n",
              "      <td>0.070541</td>\n",
              "      <td>0.002436</td>\n",
              "      <td>0.003864</td>\n",
              "      <td>0.142704</td>\n",
              "      <td>0.374793</td>\n",
              "      <td>0.298518</td>\n",
              "      <td>0.097773</td>\n",
              "      <td>0.009539</td>\n",
              "      <td>0.000000</td>\n",
              "      <td>0.002447</td>\n",
              "      <td>0.001580</td>\n",
              "      <td>0.013639</td>\n",
              "      <td>0.375906</td>\n",
              "      <td>0.408877</td>\n",
              "      <td>0.203929</td>\n",
              "      <td>0.106511</td>\n",
              "      <td>0.110688</td>\n",
              "      <td>0.001214</td>\n",
              "      <td>0.000088</td>\n",
              "      <td>0.004111</td>\n",
              "      <td>0.062549</td>\n",
              "      <td>0.253033</td>\n",
              "      <td>0.245725</td>\n",
              "      <td>0.326384</td>\n",
              "      <td>0.126469</td>\n",
              "      <td>...</td>\n",
              "      <td>0.055659</td>\n",
              "      <td>0.358907</td>\n",
              "      <td>0.129007</td>\n",
              "      <td>0.031768</td>\n",
              "      <td>0.097295</td>\n",
              "      <td>0.092958</td>\n",
              "      <td>0.141710</td>\n",
              "      <td>0.100115</td>\n",
              "      <td>0.028620</td>\n",
              "      <td>0.058216</td>\n",
              "      <td>0.096667</td>\n",
              "      <td>0.100782</td>\n",
              "      <td>0.203848</td>\n",
              "      <td>0.138290</td>\n",
              "      <td>0.172493</td>\n",
              "      <td>0.236578</td>\n",
              "      <td>0.049182</td>\n",
              "      <td>0.052278</td>\n",
              "      <td>0.102717</td>\n",
              "      <td>0.179673</td>\n",
              "      <td>0.180185</td>\n",
              "      <td>0.098016</td>\n",
              "      <td>0.322441</td>\n",
              "      <td>0.111612</td>\n",
              "      <td>0.068713</td>\n",
              "      <td>0.170322</td>\n",
              "      <td>0.070401</td>\n",
              "      <td>0.027510</td>\n",
              "      <td>0.046111</td>\n",
              "      <td>0.089039</td>\n",
              "      <td>0.199487</td>\n",
              "      <td>0.152112</td>\n",
              "      <td>0.166327</td>\n",
              "      <td>0.176707</td>\n",
              "      <td>0.011758</td>\n",
              "      <td>0.122038</td>\n",
              "      <td>0.548236</td>\n",
              "      <td>0.144410</td>\n",
              "      <td>0.222143</td>\n",
              "      <td>33</td>\n",
              "    </tr>\n",
              "    <tr>\n",
              "      <th>4</th>\n",
              "      <td>0.042312</td>\n",
              "      <td>0.139276</td>\n",
              "      <td>0.093038</td>\n",
              "      <td>0.039349</td>\n",
              "      <td>0.156275</td>\n",
              "      <td>0.304959</td>\n",
              "      <td>0.044027</td>\n",
              "      <td>0.028507</td>\n",
              "      <td>0.119267</td>\n",
              "      <td>0.188071</td>\n",
              "      <td>0.210651</td>\n",
              "      <td>0.100037</td>\n",
              "      <td>0.233653</td>\n",
              "      <td>0.214910</td>\n",
              "      <td>0.048232</td>\n",
              "      <td>0.048967</td>\n",
              "      <td>0.040066</td>\n",
              "      <td>0.103603</td>\n",
              "      <td>0.094565</td>\n",
              "      <td>0.185819</td>\n",
              "      <td>0.251838</td>\n",
              "      <td>0.203746</td>\n",
              "      <td>0.092921</td>\n",
              "      <td>0.043589</td>\n",
              "      <td>0.067133</td>\n",
              "      <td>0.133992</td>\n",
              "      <td>0.182767</td>\n",
              "      <td>0.194022</td>\n",
              "      <td>0.281615</td>\n",
              "      <td>0.329073</td>\n",
              "      <td>0.073014</td>\n",
              "      <td>0.047348</td>\n",
              "      <td>0.077590</td>\n",
              "      <td>0.085849</td>\n",
              "      <td>0.133501</td>\n",
              "      <td>0.119353</td>\n",
              "      <td>0.183468</td>\n",
              "      <td>0.094354</td>\n",
              "      <td>0.038752</td>\n",
              "      <td>0.026333</td>\n",
              "      <td>...</td>\n",
              "      <td>0.018236</td>\n",
              "      <td>0.153695</td>\n",
              "      <td>0.251007</td>\n",
              "      <td>0.055598</td>\n",
              "      <td>0.035857</td>\n",
              "      <td>0.148731</td>\n",
              "      <td>0.430347</td>\n",
              "      <td>0.066502</td>\n",
              "      <td>0.136286</td>\n",
              "      <td>0.167263</td>\n",
              "      <td>0.223180</td>\n",
              "      <td>0.046610</td>\n",
              "      <td>0.197649</td>\n",
              "      <td>0.136416</td>\n",
              "      <td>0.073898</td>\n",
              "      <td>0.016792</td>\n",
              "      <td>0.327745</td>\n",
              "      <td>0.350210</td>\n",
              "      <td>0.064759</td>\n",
              "      <td>0.044657</td>\n",
              "      <td>0.210486</td>\n",
              "      <td>0.139218</td>\n",
              "      <td>0.000000</td>\n",
              "      <td>0.139371</td>\n",
              "      <td>0.108506</td>\n",
              "      <td>0.138796</td>\n",
              "      <td>0.287241</td>\n",
              "      <td>0.080108</td>\n",
              "      <td>0.081362</td>\n",
              "      <td>0.097460</td>\n",
              "      <td>0.274602</td>\n",
              "      <td>0.149952</td>\n",
              "      <td>0.372411</td>\n",
              "      <td>0.133690</td>\n",
              "      <td>0.149661</td>\n",
              "      <td>0.089199</td>\n",
              "      <td>0.088972</td>\n",
              "      <td>0.045503</td>\n",
              "      <td>0.046976</td>\n",
              "      <td>11</td>\n",
              "    </tr>\n",
              "  </tbody>\n",
              "</table>\n",
              "<p>5 rows × 1569 columns</p>\n",
              "</div>"
            ],
            "text/plain": [
              "       0         1         2         3     ...      1565      1566      1567  1568\n",
              "0  0.077112  0.049983  0.143680  0.151308  ...  0.029830  0.006890  0.018699    16\n",
              "1  0.119052  0.003266  0.006143  0.247642  ...  0.053293  0.022978  0.010473     1\n",
              "2  0.000000  0.000000  0.000000  0.000000  ...  0.374231  0.062075  0.001808    38\n",
              "3  0.026402  0.036410  0.091313  0.107078  ...  0.548236  0.144410  0.222143    33\n",
              "4  0.042312  0.139276  0.093038  0.039349  ...  0.088972  0.045503  0.046976    11\n",
              "\n",
              "[5 rows x 1569 columns]"
            ]
          },
          "metadata": {
            "tags": []
          },
          "execution_count": 32
        }
      ]
    },
    {
      "cell_type": "code",
      "metadata": {
        "id": "ZmnrG0xxlFE5",
        "colab_type": "code",
        "outputId": "540a2a35-85cb-48d2-d7b1-29cc0c20a829",
        "colab": {
          "base_uri": "https://localhost:8080/",
          "height": 36
        }
      },
      "source": [
        "#Verification de valeur manquantes\n",
        "df.isnull().sum().sum()"
      ],
      "execution_count": 0,
      "outputs": [
        {
          "output_type": "execute_result",
          "data": {
            "text/plain": [
              "0"
            ]
          },
          "metadata": {
            "tags": []
          },
          "execution_count": 45
        }
      ]
    },
    {
      "cell_type": "code",
      "metadata": {
        "id": "cSmGRezL24k_",
        "colab_type": "code",
        "outputId": "3161d5ff-98cc-4bde-ed7c-6697241a0e34",
        "colab": {
          "base_uri": "https://localhost:8080/",
          "height": 36
        }
      },
      "source": [
        "#Verification de valeur manquantes\n",
        "df_test.isnull().sum().sum()"
      ],
      "execution_count": 0,
      "outputs": [
        {
          "output_type": "execute_result",
          "data": {
            "text/plain": [
              "0"
            ]
          },
          "metadata": {
            "tags": []
          },
          "execution_count": 46
        }
      ]
    },
    {
      "cell_type": "code",
      "metadata": {
        "id": "Zee74AKN2fGR",
        "colab_type": "code",
        "colab": {}
      },
      "source": [
        ""
      ],
      "execution_count": 0,
      "outputs": []
    },
    {
      "cell_type": "code",
      "metadata": {
        "id": "9PZXqIcryDmT",
        "colab_type": "code",
        "colab": {}
      },
      "source": [
        "#Importation des bibliothèques necessaires\n",
        "\n",
        "from sklearn import feature_extraction, model_selection, metrics\n",
        "from sklearn.model_selection import cross_val_score, train_test_split\n",
        "from sklearn.metrics import accuracy_score,classification_report,confusion_matrix,fbeta_score\n"
      ],
      "execution_count": 0,
      "outputs": []
    },
    {
      "cell_type": "code",
      "metadata": {
        "id": "RtUVQ37pwHF-",
        "colab_type": "code",
        "colab": {}
      },
      "source": [
        "X = df.drop(columns = [1568])#On recupére dans X uniquement les caractéristique des images sans labels\n",
        "y = df[[1568]]#on recupére dans y les classes des images\n",
        "y = y.values.ravel() #Nous faisons un flattens sur le y recupéré"
      ],
      "execution_count": 0,
      "outputs": []
    },
    {
      "cell_type": "code",
      "metadata": {
        "id": "LmTliYeVv_Ad",
        "colab_type": "code",
        "colab": {}
      },
      "source": [
        "# Nous faisons un split de 80% et 20% pour sur les données d'apprentissage et de validation\n",
        "#Notons que nous faison un shuffle pour mélanger les données\n",
        "TEST_SIZE = 0.2 \n",
        "X_train, X_val, y_train, y_val = train_test_split(X, y, test_size = TEST_SIZE, shuffle=True, random_state=42)"
      ],
      "execution_count": 0,
      "outputs": []
    },
    {
      "cell_type": "code",
      "metadata": {
        "id": "xBZsWxEDL9IW",
        "colab_type": "code",
        "colab": {}
      },
      "source": [
        ""
      ],
      "execution_count": 0,
      "outputs": []
    },
    {
      "cell_type": "code",
      "metadata": {
        "id": "iHtQv_D3L921",
        "colab_type": "code",
        "colab": {}
      },
      "source": [
        ""
      ],
      "execution_count": 0,
      "outputs": []
    },
    {
      "cell_type": "markdown",
      "metadata": {
        "id": "UK_QmUAcZiHX",
        "colab_type": "text"
      },
      "source": [
        "# **Modèle I: Forêts aléatoires**"
      ]
    },
    {
      "cell_type": "code",
      "metadata": {
        "id": "YT_f8Khac6kh",
        "colab_type": "code",
        "outputId": "7a6da886-979f-4bb1-86b8-3ad00df5b847",
        "colab": {
          "base_uri": "https://localhost:8080/",
          "height": 75
        }
      },
      "source": [
        "from sklearn.ensemble import RandomForestClassifier\n",
        "\n",
        "max_depths = [5,8,11,14,17,20,25,30]\n",
        "cv_scores_train = []\n",
        "cv_scores_val = []\n",
        "for dept in max_depths:\n",
        "    forest_clf = RandomForestClassifier(n_estimators=150, max_depth=dept,random_state=0)\n",
        "    forest_clf.fit(X_train, y_train)\n",
        "    cv_scores_train.append(forest_clf.score(X_train, y_train))\n",
        "    cv_scores_val.append(forest_clf.score(X_val, y_val))\n",
        "\n",
        "#Affichage des scores\n",
        "print(cv_scores_train)\n",
        "print(cv_scores_val)"
      ],
      "execution_count": 0,
      "outputs": [
        {
          "output_type": "stream",
          "text": [
            "[0.7371441323684127, 0.9541237606401632, 0.9955048299167916, 0.999617432333344, 1.0, 1.0, 1.0, 1.0]\n",
            "[0.737439428717164, 0.9380260137719969, 0.9813823004335629, 0.9877582249426167, 0.9923488905891354, 0.9920938536087732, 0.9924764090793164, 0.99171129813823]\n"
          ],
          "name": "stdout"
        }
      ]
    },
    {
      "cell_type": "code",
      "metadata": {
        "id": "A5uYXc8Qypg6",
        "colab_type": "code",
        "outputId": "e741cbf4-6ec3-411c-c9ae-988041e948cd",
        "colab": {
          "base_uri": "https://localhost:8080/",
          "height": 314
        }
      },
      "source": [
        "#Illustration des scores en fonction de la profondeur de l'arbre\n",
        "from pylab import *\n",
        "\n",
        "plot(max_depths, cv_scores_train, 'o-', label=\"Train\")\n",
        "plot(max_depths, cv_scores_val, 'ro-', label=\"Validation\")\n",
        "\n",
        "plt.title(\"Accuracy evolution\")\n",
        "plt.xlabel(\"depth\")\n",
        "plt.ylabel(\"Accuracy\")\n",
        "plt.legend(loc=\"best\")\n"
      ],
      "execution_count": 0,
      "outputs": [
        {
          "output_type": "execute_result",
          "data": {
            "text/plain": [
              "<matplotlib.legend.Legend at 0x7f2e823c0390>"
            ]
          },
          "metadata": {
            "tags": []
          },
          "execution_count": 23
        },
        {
          "output_type": "display_data",
          "data": {
            "image/png": "[encoded data removed]",
            "text/plain": [
              "<Figure size 432x288 with 1 Axes>"
            ]
          },
          "metadata": {
            "tags": []
          }
        }
      ]
    },
    {
      "cell_type": "markdown",
      "metadata": {
        "id": "P7Vq_slwaFrg",
        "colab_type": "text"
      },
      "source": [
        "On remarque une stabilité de l'accuracy à la profondeur 17 donc on choisit cette dernière"
      ]
    },
    {
      "cell_type": "code",
      "metadata": {
        "id": "MLAGu-syHxFe",
        "colab_type": "code",
        "colab": {}
      },
      "source": [
        "max_depth_good = 17"
      ],
      "execution_count": 0,
      "outputs": []
    },
    {
      "cell_type": "code",
      "metadata": {
        "id": "yM50l4vrhj6b",
        "colab_type": "code",
        "colab": {}
      },
      "source": [
        ""
      ],
      "execution_count": 0,
      "outputs": []
    },
    {
      "cell_type": "code",
      "metadata": {
        "id": "UMhGdQ_Whh2B",
        "colab_type": "code",
        "outputId": "00a2404c-936c-4dc0-bde0-cfac5ee89dd1",
        "colab": {
          "base_uri": "https://localhost:8080/",
          "height": 93
        }
      },
      "source": [
        "#Validation croisée\n",
        "#Nous faisons 5 folders soit 39209/5 examples par folder \n",
        "#pour l'application de la validation croisée\n",
        "\n",
        "from sklearn.model_selection import cross_val_score\n",
        "from sklearn.model_selection import ShuffleSplit\n",
        "shuffle_split = ShuffleSplit(test_size=.2, n_splits=5)\n",
        "\n",
        "rforest_clf = RandomForestClassifier(n_estimators=150, max_depth=max_depth_good,random_state=0)\n",
        "scores = cross_val_score(rforest_clf, X, y, cv=shuffle_split)\n",
        "print(\"Cross-validation scores:\\n{}\".format(scores))\n",
        "print(\"Cross-validation scores mean:\\n{}\".format(scores.mean()))\n"
      ],
      "execution_count": 0,
      "outputs": [
        {
          "output_type": "stream",
          "text": [
            "Cross-validation scores:\n",
            "[0.99132874 0.99196634 0.99030859 0.99107371 0.98992604]\n",
            "Cross-validation scores mean:\n",
            "0.9909206834991074\n"
          ],
          "name": "stdout"
        }
      ]
    },
    {
      "cell_type": "markdown",
      "metadata": {
        "id": "PpuVdjUIjw8J",
        "colab_type": "text"
      },
      "source": [
        "En utilisant la validation croisée moyenne, nous pouvons conclure que nous nous attendons à ce que le modèle soit précis à environ 99% en moyenne. En examinant les cinq scores produits par la validation croisée quintuple, nous pouvons également conclure qu'il existe une variance relativement faible dans la précision entre les plis (98% et 99%)."
      ]
    },
    {
      "cell_type": "code",
      "metadata": {
        "id": "8QFEUB5tG22P",
        "colab_type": "code",
        "colab": {}
      },
      "source": [
        ""
      ],
      "execution_count": 0,
      "outputs": []
    },
    {
      "cell_type": "code",
      "metadata": {
        "id": "-MDX2BshHOVe",
        "colab_type": "code",
        "colab": {}
      },
      "source": [
        "X_test = df_test.drop(columns = [1568]) #On recupére dans X uniquement les caractéristique des images\n",
        "y_test = df_test[[1568]]#on recupére dans y les classes des images\n",
        "y_test = y_test.values.ravel() #Nous faisons un flattens sur le y recupéré"
      ],
      "execution_count": 0,
      "outputs": []
    },
    {
      "cell_type": "code",
      "metadata": {
        "id": "08d3psPcpM9X",
        "colab_type": "code",
        "outputId": "6f9ebf13-654a-4fef-a3cf-45c9bee1c59c",
        "colab": {
          "base_uri": "https://localhost:8080/",
          "height": 36
        }
      },
      "source": [
        "#on prend la meilleure profondeur ici 17 et \n",
        "#on construit le modele sur toutes les données de train\n",
        "#Nombre d'arbre dans la forêt chosit est 150\n",
        "\n",
        "from sklearn.ensemble import RandomForestClassifier\n",
        "\n",
        "forest_clf = RandomForestClassifier(n_estimators=150, max_depth=max_depth_good,random_state=0)\n",
        "forest_clf.fit(X, y)\n",
        "cv_scores_train = forest_clf.score(X, y)#Calcul du score sur les données de train\n",
        "cv_scores_test = forest_clf.score(X_test, y_test) #Calcul du score sur les données de test\n",
        "\n",
        "print('Accuracy score for train: %.5f: test: %.5f' % (\n",
        "        cv_scores_train,\n",
        "        cv_scores_test))"
      ],
      "execution_count": 0,
      "outputs": [
        {
          "output_type": "stream",
          "text": [
            "Accuracy score for train: 1.00000: test: 0.96168\n"
          ],
          "name": "stdout"
        }
      ]
    },
    {
      "cell_type": "code",
      "metadata": {
        "id": "Jsoj0ty5HGIa",
        "colab_type": "code",
        "outputId": "52e2469b-3cea-48c8-e993-69638ad4ee16",
        "colab": {
          "base_uri": "https://localhost:8080/",
          "height": 36
        }
      },
      "source": [
        "#on prend la meilleure profondeur ici 17 et on construit le modele\n",
        "forest_clf = RandomForestClassifier(n_estimators=150, max_depth=max_depth_good,random_state=0)\n",
        "forest_clf.fit(X_train, y_train)\n",
        "cv_scores_train = forest_clf.score(X_train, y_train)\n",
        "cv_scores_val = forest_clf.score(X_val, y_val)\n",
        "cv_scores_test = forest_clf.score(X_test, y_test)\n",
        "\n",
        "print('Accuracy score for train: %.5f: val: %.5f: test: %.5f' % (\n",
        "        cv_scores_train,\n",
        "        cv_scores_val,\n",
        "        cv_scores_test))"
      ],
      "execution_count": 0,
      "outputs": [
        {
          "output_type": "stream",
          "text": [
            "Accuracy score for train: 1.00000: val: 0.99235: test: 0.96112\n"
          ],
          "name": "stdout"
        }
      ]
    },
    {
      "cell_type": "code",
      "metadata": {
        "id": "iiTCH05QQwgN",
        "colab_type": "code",
        "outputId": "0a2dcaaf-f880-49b4-97d5-1628e421fe2f",
        "colab": {
          "base_uri": "https://localhost:8080/",
          "height": 150
        }
      },
      "source": [
        "from sklearn.metrics import confusion_matrix\n",
        "\n",
        "y_test_pred = forest_clf.predict(X_test)\n",
        "conf_matrix = confusion_matrix(y_test, y_test_pred)\n",
        "conf_matrix"
      ],
      "execution_count": 0,
      "outputs": [
        {
          "output_type": "execute_result",
          "data": {
            "text/plain": [
              "array([[ 43,   2,   0, ...,   0,   0,   0],\n",
              "       [  0, 703,  10, ...,   0,   0,   0],\n",
              "       [  0,   5, 743, ...,   0,   0,   0],\n",
              "       ...,\n",
              "       [  0,   2,   1, ...,  78,   0,   0],\n",
              "       [  0,   0,   0, ...,   0,  40,   0],\n",
              "       [  0,   0,   1, ...,   0,   3,  84]])"
            ]
          },
          "metadata": {
            "tags": []
          },
          "execution_count": 41
        }
      ]
    },
    {
      "cell_type": "code",
      "metadata": {
        "id": "imgRCpqlHPOx",
        "colab_type": "code",
        "outputId": "b6d3899b-2cf9-4aa9-c5af-0a1767e843e5",
        "colab": {
          "base_uri": "https://localhost:8080/",
          "height": 1000
        }
      },
      "source": [
        "import seaborn as sn\n",
        "import pandas as pd\n",
        "import matplotlib.pyplot as plt\n",
        "from sklearn.metrics import confusion_matrix\n",
        "\n",
        "df_conf_matrix = pd.DataFrame(conf_matrix, range(43), range(43))\n",
        "plt.figure(figsize=(23,23))# taille de la figure\n",
        "sn.set(font_scale=1.4) # for label size\n",
        "sn.heatmap(df_conf_matrix, annot=True) # font size\n",
        "\n",
        "plt.show()"
      ],
      "execution_count": 0,
      "outputs": [
        {
          "output_type": "display_data",
          "data": {
            "image/png": "[encoded data removed]",
            "text/plain": [
              "<Figure size 1656x1656 with 2 Axes>"
            ]
          },
          "metadata": {
            "tags": []
          }
        }
      ]
    },
    {
      "cell_type": "markdown",
      "metadata": {
        "id": "yTJwu7PSbbhr",
        "colab_type": "text"
      },
      "source": [
        "Cette matrice de confusion est remplie par des valeurs différentes de 0 en dehors de la diagonale, ceci indique que le modèle se trompe très souvent entre les classes. Par exemple nous avons une prediction de la classe 25 au lieu de la classe 18 23fois."
      ]
    },
    {
      "cell_type": "code",
      "metadata": {
        "id": "RXnuJfu1K29A",
        "colab_type": "code",
        "colab": {}
      },
      "source": [
        ""
      ],
      "execution_count": 0,
      "outputs": []
    },
    {
      "cell_type": "markdown",
      "metadata": {
        "id": "QqDalrmdZtHm",
        "colab_type": "text"
      },
      "source": [
        "# **Modèle II: SVM (machines à vecteur de support)**"
      ]
    },
    {
      "cell_type": "code",
      "metadata": {
        "id": "HtjZZJNckyXk",
        "colab_type": "code",
        "outputId": "630eff32-f29e-4950-ed24-2b845206eb49",
        "colab": {
          "base_uri": "https://localhost:8080/",
          "height": 36
        }
      },
      "source": [
        "#Nous construisant le modele avec les parametres par defaut de sklearn\n",
        "#A savoir : C=1.0, kernel='rbf', gamma='scale'\n",
        "\n",
        "from sklearn import svm\n",
        "\n",
        "svm_clf = svm.SVC()#instantiation du modele\n",
        "svm_clf.fit(X_train, y_train)#Entrainement du modele sur les données d'entrainement\n",
        "\n",
        "cv_scores_train = svm_clf.score(X_train, y_train)\n",
        "cv_scores_val = svm_clf.score(X_val, y_val)\n",
        "cv_scores_test = svm_clf.score(X_test, y_test)\n",
        "\n",
        "print('SVM Accuracy score for train: %.5f: validation: %.5f: test: %.5f' % (\n",
        "        cv_scores_train,\n",
        "        cv_scores_val,\n",
        "        cv_scores_test))"
      ],
      "execution_count": 0,
      "outputs": [
        {
          "output_type": "stream",
          "text": [
            "SVM Accuracy score for train: 0.99984: validation: 0.99592: test: 0.95012\n"
          ],
          "name": "stdout"
        }
      ]
    },
    {
      "cell_type": "code",
      "metadata": {
        "id": "jgOttbu3mijt",
        "colab_type": "code",
        "colab": {}
      },
      "source": [
        "#On modifie les paramètre du modele svm pour voir si on peut augmenter l'accuracy\n",
        "#Pour les raisons de calcul on considère on prend juste \n",
        "#quelques valeurs de gama et C qui sont proche des valeurs par défaut\n",
        "\n",
        "from sklearn import svm\n",
        "\n",
        "best_score = 0\n",
        "kenels = ['rbf', 'poly', 'sigmoid', 'precomputed']#Différents kernels de svm\n",
        "gama_values = [0.1, 1, 10]\n",
        "c_values    = [0.1, 1, 10]\n",
        "#Boucle sur les dfférents parametres\n",
        "for kernel in kernels:\n",
        "  for gamma in gama_values:\n",
        "    for C in c_values:\n",
        "    # Pour chaque combinaison des paramètres, on entraine un SVC\n",
        "    svm_clf = svm.SVC(C=C, kernel=kernel, gamma=gamma)#instantiation du modele avec le paramètre\n",
        "    svm_clf.fit(X_train, y_train)\n",
        "    # On evalue sur les données de validation\n",
        "    score = svm_clf.score(X_val, y_val)\n",
        "    # si nous avons un score meilleur, alors on le garde\n",
        "    if score > best_score:\n",
        "      best_score = score\n",
        "      best_parameters = {'C': C, 'kernel': kernel, 'gamma': gamma}\n",
        "\n",
        "\n",
        "# On reconstruit le modele sur toutes les données avec les bons parametres\n",
        "# et on evalu sur les données de test\n",
        "svm_clf = svm.SVC(**best_parameters)\n",
        "svm_clf.fit(X, y)\n",
        "test_score = svm_clf.score(X_test, y_test)\n",
        "print(\"Best score on validation set: {:.5f}\".format(best_score))\n",
        "print(\"Best parameters: \", best_parameters)\n",
        "print(\"Test set score with best parameters: {:.5f}\".format(test_score))\n"
      ],
      "execution_count": 0,
      "outputs": []
    },
    {
      "cell_type": "markdown",
      "metadata": {
        "id": "JyNiayleQzux",
        "colab_type": "text"
      },
      "source": [
        "Cette fonction n'a pas pu terminé l'exécution à cause de la durée très grande de l'exécution\n",
        "\n",
        "Nous continuons pour cela avec les paramètres par défauts"
      ]
    },
    {
      "cell_type": "code",
      "metadata": {
        "id": "3ZRAXxKqi-WS",
        "colab_type": "code",
        "outputId": "c61de87b-ca6d-4699-df17-580489333631",
        "colab": {
          "base_uri": "https://localhost:8080/",
          "height": 93
        }
      },
      "source": [
        "#Validation croisée\n",
        "#Nous faisons 5 folders soit 39209/5 examples par folder \n",
        "#pour l'application de la validation croisée\n",
        "\n",
        "from sklearn.model_selection import cross_val_score\n",
        "from sklearn.model_selection import ShuffleSplit\n",
        "shuffle_split = ShuffleSplit(test_size=.2, n_splits=5)\n",
        "\n",
        "ksvm_clf = svm.SVC(C=1.0, kernel='rbf', gamma='scale')#instantiation du modele\n",
        "scores = cross_val_score(ksvm_clf, X, y, cv=shuffle_split)\n",
        "print(\"Cross-validation scores for SVM:\\n{}\".format(scores))\n",
        "print(\"Cross-validation scores for SVM mean:\\n{}\".format(scores.mean()))\n"
      ],
      "execution_count": 0,
      "outputs": [
        {
          "output_type": "stream",
          "text": [
            "Cross-validation scores for SVM:\n",
            "[0.99604693 0.99604693 0.99566437 0.99642948 0.996557  ]\n",
            "Cross-validation scores for SVM mean:\n",
            "0.9961489415965316\n"
          ],
          "name": "stdout"
        }
      ]
    },
    {
      "cell_type": "code",
      "metadata": {
        "id": "Spj_GoeUDr8e",
        "colab_type": "code",
        "outputId": "09dfd444-8ca1-46fa-9980-f6a89b2b0976",
        "colab": {
          "base_uri": "https://localhost:8080/",
          "height": 36
        }
      },
      "source": [
        "#Nous construisant le modele avec les parametres par defaut de sklearn\n",
        "#A savoir : C=1.0, kernel='rbf', gamma='scale'\n",
        "\n",
        "from sklearn import svm\n",
        "\n",
        "svm_clf = svm.SVC(C=1.0, kernel='rbf', gamma='scale')#instantiation du modele\n",
        "svm_clf.fit(X, y)#Entrainement du modele sur les données d'entrainement\n",
        "\n",
        "cv_scores_train = svm_clf.score(X, y)\n",
        "cv_scores_test = svm_clf.score(X_test, y_test)\n",
        "\n",
        "print('SVM Accuracy score for train: %.5f:  test: %.5f' % (\n",
        "        cv_scores_train,\n",
        "        cv_scores_test))"
      ],
      "execution_count": 0,
      "outputs": [
        {
          "output_type": "stream",
          "text": [
            "SVM Accuracy score for train: 0.99980:  test: 0.95115\n"
          ],
          "name": "stdout"
        }
      ]
    },
    {
      "cell_type": "code",
      "metadata": {
        "id": "WwhqSB0Y738h",
        "colab_type": "code",
        "outputId": "52a8696a-bce6-43db-84d5-83d98ab69d7b",
        "colab": {
          "base_uri": "https://localhost:8080/",
          "height": 150
        }
      },
      "source": [
        "from sklearn.metrics import confusion_matrix\n",
        "\n",
        "y_test_pred = svm_clf.predict(X_test)#Prédiction des valeurs de test\n",
        "conf_matrix = confusion_matrix(y_test, y_test_pred)#Génération de la matrice de confusions\n",
        "conf_matrix"
      ],
      "execution_count": 0,
      "outputs": [
        {
          "output_type": "execute_result",
          "data": {
            "text/plain": [
              "array([[ 46,   8,   0, ...,   0,   0,   0],\n",
              "       [  0, 703,  11, ...,   0,   0,   0],\n",
              "       [  0,   4, 737, ...,   0,   0,   0],\n",
              "       ...,\n",
              "       [  0,   6,   0, ...,  79,   0,   0],\n",
              "       [  0,   0,   0, ...,   0,  47,   0],\n",
              "       [  0,   0,   0, ...,   0,   0,  85]])"
            ]
          },
          "metadata": {
            "tags": []
          },
          "execution_count": 41
        }
      ]
    },
    {
      "cell_type": "code",
      "metadata": {
        "id": "s28KPNxm8ZUE",
        "colab_type": "code",
        "outputId": "d692ab6b-6355-4310-c4d5-5ab1d698d58e",
        "colab": {
          "base_uri": "https://localhost:8080/",
          "height": 1000
        }
      },
      "source": [
        "import seaborn as sn\n",
        "import pandas as pd\n",
        "import matplotlib.pyplot as plt\n",
        "from sklearn.metrics import confusion_matrix\n",
        "\n",
        "df_conf_matrix = pd.DataFrame(conf_matrix, range(43), range(43))\n",
        "plt.figure(figsize=(23,23))\n",
        "sn.set(font_scale=1.4) # for label size\n",
        "sn.heatmap(df_conf_matrix, annot=True) # font size\n",
        "\n",
        "plt.show()"
      ],
      "execution_count": 0,
      "outputs": [
        {
          "output_type": "display_data",
          "data": {
            "image/png": "[encoded data removed]",
            "text/plain": [
              "<Figure size 1656x1656 with 2 Axes>"
            ]
          },
          "metadata": {
            "tags": []
          }
        }
      ]
    },
    {
      "cell_type": "markdown",
      "metadata": {
        "id": "nZV83TyFeY5H",
        "colab_type": "text"
      },
      "source": [
        "Bien qu'elle soit grande, la matrice de confusion ci dessus nous indique : une confusion du modèle illustré par la présence des chiffres non nul en dehors de la diagonale. Le modèle svm a prédit la classe 11 au lieu de la classe 25 20fois et la classe 25 au lieu de la classe 18 30fois.   \n",
        "\n"
      ]
    },
    {
      "cell_type": "code",
      "metadata": {
        "id": "4W3teH0JeSig",
        "colab_type": "code",
        "colab": {}
      },
      "source": [
        ""
      ],
      "execution_count": 0,
      "outputs": []
    },
    {
      "cell_type": "code",
      "metadata": {
        "id": "aHuG6tM9auvg",
        "colab_type": "code",
        "colab": {}
      },
      "source": [
        ""
      ],
      "execution_count": 0,
      "outputs": []
    },
    {
      "cell_type": "code",
      "metadata": {
        "id": "u6f0-_DSMHtl",
        "colab_type": "code",
        "colab": {}
      },
      "source": [
        ""
      ],
      "execution_count": 0,
      "outputs": []
    },
    {
      "cell_type": "markdown",
      "metadata": {
        "id": "mYkDKHesZToQ",
        "colab_type": "text"
      },
      "source": [
        "# **Modèle III: CNN**"
      ]
    },
    {
      "cell_type": "code",
      "metadata": {
        "id": "DvFNXCWTlHhN",
        "colab_type": "code",
        "colab": {}
      },
      "source": [
        "\n",
        "# sample code for reading the traffic sign images and the\n",
        "# corresponding labels\n",
        "#\n",
        "# example:\n",
        "#            \n",
        "# trainImages, trainLabels = readTrafficSigns('./DataBase/BaseDApprentissage/Training_Images-avecVeriteTerrain(GT)')\n",
        "# print len(trainLabels), len(trainImages)\n",
        "# plt.imshow(trainImages[42])\n",
        "# plt.show()\n",
        "#\n",
        "\n",
        "\n",
        "import matplotlib.pyplot as plt\n",
        "import csv\n",
        "\n",
        "# function for reading the images\n",
        "# arguments: path to the traffic sign data\n",
        "# returns: list of images, list of corresponding labels \n",
        "\n",
        "def readTrafficSigns(rootpath):\n",
        "    '''Reads traffic sign data \n",
        "    Arguments: path to the traffic sign data\n",
        "    Returns:   list of images, list of corresponding labels'''\n",
        "    images = [] # images\n",
        "    labels = [] # corresponding labels\n",
        "    # loop over all 42 classes\n",
        "    for c in range(0,43):\n",
        "        prefix = rootpath + '/' + format(c, '05d') + '/' # subdirectory for class\n",
        "        gtFile = open(prefix + 'GT-'+ format(c, '05d') + '.csv') # annotations file\n",
        "        gtReader = csv.reader(gtFile, delimiter=';') # csv parser for annotations file\n",
        "\n",
        "        next(gtReader) # skip header\n",
        "        # loop over all images in current annotations file\n",
        "        for row in gtReader:\n",
        "            images.append(plt.imread(prefix + row[0])) # the 1th column is the filename\n",
        "            labels.append(row[7]) # the 8th column is the label\n",
        "        gtFile.close()\n",
        "    return images, labels"
      ],
      "execution_count": 0,
      "outputs": []
    },
    {
      "cell_type": "code",
      "metadata": {
        "id": "vafT9NeZqeih",
        "colab_type": "code",
        "colab": {}
      },
      "source": [
        "file_path = '/Database/BaseDApprentissage/Training_Images-avecVeriteTerrain(GT)'\n",
        "images, labels = readTrafficSigns(file_path)"
      ],
      "execution_count": 0,
      "outputs": []
    },
    {
      "cell_type": "code",
      "metadata": {
        "id": "Hzol94S4MawG",
        "colab_type": "code",
        "outputId": "56f0f538-0e44-4421-d6fb-f40b7040766f",
        "colab": {
          "base_uri": "https://localhost:8080/",
          "height": 55
        }
      },
      "source": [
        "print(len(labels))\n",
        "print(len(images))"
      ],
      "execution_count": 0,
      "outputs": [
        {
          "output_type": "stream",
          "text": [
            "39209\n",
            "39209\n"
          ],
          "name": "stdout"
        }
      ]
    },
    {
      "cell_type": "code",
      "metadata": {
        "id": "FzxAAKdasrjy",
        "colab_type": "code",
        "outputId": "0e6b0cfb-74ef-4714-aed7-8cd0081a55d0",
        "colab": {
          "base_uri": "https://localhost:8080/",
          "height": 36
        }
      },
      "source": [
        "#On dump les images et les labels lu pour une utilsation ultérieure\n",
        "import pickle\n",
        "with open('drive/My Drive/Colab Notebooks/Datasets/images.lst', 'wb') as handle:\n",
        "    pickle.dump(images, handle)\n",
        "\n",
        "with open('drive/My Drive/Colab Notebooks/Datasets/labels.lst', 'wb') as handle:\n",
        "    pickle.dump(labels, handle)    \n",
        "print(\"End Dump\")    "
      ],
      "execution_count": 0,
      "outputs": [
        {
          "output_type": "stream",
          "text": [
            "End Dump\n"
          ],
          "name": "stdout"
        }
      ]
    },
    {
      "cell_type": "code",
      "metadata": {
        "id": "NuVd7dQYtMbu",
        "colab_type": "code",
        "outputId": "399579c0-ffba-48f5-b10e-d6344c48259f",
        "colab": {
          "base_uri": "https://localhost:8080/",
          "height": 36
        }
      },
      "source": [
        "#Lecture des images de test\n",
        "\n",
        "images_test = [] # images\n",
        "labels_test = [] # corresponding labels\n",
        "# loop over all 42 classes\n",
        "prefix = '/Database/BaseDeTest/Test_Images/Images/'\n",
        "gtFile = open('Test_VeriteTerrain(GT).csv') # annotations file\n",
        "gtReader = csv.reader(gtFile, delimiter=';') # csv parser for annotations file\n",
        "\n",
        "next(gtReader) # skip header\n",
        "# loop over all images in current annotations file\n",
        "for row in gtReader:\n",
        "    images_test.append(plt.imread(prefix + row[0])) # the 1th column is the filename\n",
        "    labels_test.append(row[7]) # the 8th column is the label\n",
        "gtFile.close()\n",
        "\n",
        "print(\"End read test images\")"
      ],
      "execution_count": 0,
      "outputs": [
        {
          "output_type": "stream",
          "text": [
            "End read test images\n"
          ],
          "name": "stdout"
        }
      ]
    },
    {
      "cell_type": "code",
      "metadata": {
        "id": "OAE3hHoIurif",
        "colab_type": "code",
        "outputId": "77fc67b7-7c4b-4e16-949a-0a8672574b00",
        "colab": {
          "base_uri": "https://localhost:8080/",
          "height": 55
        }
      },
      "source": [
        "print(len(labels_test))\n",
        "print(len(images_test))"
      ],
      "execution_count": 0,
      "outputs": [
        {
          "output_type": "stream",
          "text": [
            "12630\n",
            "12630\n"
          ],
          "name": "stdout"
        }
      ]
    },
    {
      "cell_type": "code",
      "metadata": {
        "id": "XR4j-JmMuyii",
        "colab_type": "code",
        "outputId": "693eace6-8362-4446-bafb-5fe4b9d60751",
        "colab": {
          "base_uri": "https://localhost:8080/",
          "height": 36
        }
      },
      "source": [
        "import pickle\n",
        "with open('drive/My Drive/Colab Notebooks/Datasets/images_test.lst', 'wb') as handle:\n",
        "    pickle.dump(images_test, handle)\n",
        "\n",
        "with open('drive/My Drive/Colab Notebooks/Datasets/labels_test.lst', 'wb') as handle:\n",
        "    pickle.dump(labels_test, handle)    \n",
        "print(\"End Dump\")    "
      ],
      "execution_count": 0,
      "outputs": [
        {
          "output_type": "stream",
          "text": [
            "End Dump\n"
          ],
          "name": "stdout"
        }
      ]
    },
    {
      "cell_type": "code",
      "metadata": {
        "id": "VsHSUJB1gW7d",
        "colab_type": "code",
        "colab": {}
      },
      "source": [
        "#Chargement des donnée dumpé avec pickle\n",
        "import pickle\n",
        "with open('drive/My Drive/Colab Notebooks/Datasets/images.lst', 'rb') as handle:\n",
        "    images = pickle.load(handle)\n",
        "\n",
        "with open('drive/My Drive/Colab Notebooks/Datasets/labels.lst', 'rb') as handle:\n",
        "    labels = pickle.load(handle)  \n",
        "\n",
        "with open('drive/My Drive/Colab Notebooks/Datasets/images_test.lst', 'rb') as handle:\n",
        "    images_test = pickle.load(handle)\n",
        "\n",
        "with open('drive/My Drive/Colab Notebooks/Datasets/labels_test.lst', 'rb') as handle:\n",
        "    labels_test = pickle.load(handle)    "
      ],
      "execution_count": 0,
      "outputs": []
    },
    {
      "cell_type": "code",
      "metadata": {
        "id": "CK-iCWNcwrwd",
        "colab_type": "code",
        "outputId": "8c640b30-e8b6-41e2-affa-b40b22d663b1",
        "colab": {
          "base_uri": "https://localhost:8080/",
          "height": 36
        }
      },
      "source": [
        "#Les images ont des size différent donc il faut les remettre à la meme size\n",
        "#Ici nous allons les remettre à une size de 64*64\n",
        "import cv2\n",
        "\n",
        "for i in range(len(images)):\n",
        "  images[i] = cv2.resize(images[i], (64, 64), interpolation = cv2.INTER_LINEAR)\n",
        "for i in range(len(images_test)):\n",
        "  images_test[i] = cv2.resize(images_test[i], (64, 64), interpolation = cv2.INTER_LINEAR)  \n",
        "print(\"End resize\")  "
      ],
      "execution_count": 0,
      "outputs": [
        {
          "output_type": "stream",
          "text": [
            "End resize\n"
          ],
          "name": "stdout"
        }
      ]
    },
    {
      "cell_type": "code",
      "metadata": {
        "id": "2Hx2KXMozPV9",
        "colab_type": "code",
        "outputId": "ca257396-1892-4003-9488-cad6abeaab8b",
        "colab": {
          "base_uri": "https://localhost:8080/",
          "height": 101
        }
      },
      "source": [
        "#importation de librairies\n",
        "import pandas as pd\n",
        "import math\n",
        "import numpy as np\n",
        "import keras\n",
        "import seaborn as sns\n",
        "from keras.layers import Dense, Dropout, Flatten, Input\n",
        "from keras.layers import Conv2D, MaxPooling2D\n",
        "from keras.layers import BatchNormalization\n",
        "from keras.optimizers import Adam\n",
        "from keras.models import Sequential"
      ],
      "execution_count": 0,
      "outputs": [
        {
          "output_type": "stream",
          "text": [
            "Using TensorFlow backend.\n"
          ],
          "name": "stderr"
        },
        {
          "output_type": "display_data",
          "data": {
            "text/html": [
              "<p style=\"color: red;\">\n",
              "The default version of TensorFlow in Colab will soon switch to TensorFlow 2.x.<br>\n",
              "We recommend you <a href=\"https://www.tensorflow.org/guide/migrate\" target=\"_blank\">upgrade</a> now \n",
              "or ensure your notebook will continue to use TensorFlow 1.x via the <code>%tensorflow_version 1.x</code> magic:\n",
              "<a href=\"https://colab.research.google.com/notebooks/tensorflow_version.ipynb\" target=\"_blank\">more info</a>.</p>\n"
            ],
            "text/plain": [
              "<IPython.core.display.HTML object>"
            ]
          },
          "metadata": {
            "tags": []
          }
        }
      ]
    },
    {
      "cell_type": "code",
      "metadata": {
        "id": "_VxmR-8Fx5H0",
        "colab_type": "code",
        "colab": {}
      },
      "source": [
        "#Transformation de la liste en numpy array \n",
        "import numpy as np\n",
        "\n",
        "input_array = np.stack(images)\n",
        "input_array_test = np.stack(images_test)\n",
        "\n",
        "#catégorisation des labels de sorties\n",
        "train_y = keras.utils.np_utils.to_categorical(labels)\n",
        "test_y = keras.utils.np_utils.to_categorical(labels_test)\n"
      ],
      "execution_count": 0,
      "outputs": []
    },
    {
      "cell_type": "code",
      "metadata": {
        "id": "JpwEM5vV1TAF",
        "colab_type": "code",
        "colab": {}
      },
      "source": [
        "#Nous mélangeons les données\n",
        "randomize = np.arange(len(input_array))\n",
        "np.random.shuffle(randomize)\n",
        "X = input_array[randomize]\n",
        "y = train_y[randomize]"
      ],
      "execution_count": 0,
      "outputs": []
    },
    {
      "cell_type": "code",
      "metadata": {
        "id": "CYyS5vEj5pR-",
        "colab_type": "code",
        "colab": {}
      },
      "source": [
        "#Split du dataset en train et validation\n",
        "split_size = int(X.shape[0]*0.8)\n",
        "train_x, val_x = X[:split_size], X[split_size:]\n",
        "train_split_y, val_y = y[:split_size], y[split_size:]"
      ],
      "execution_count": 0,
      "outputs": []
    },
    {
      "cell_type": "code",
      "metadata": {
        "id": "TygEXng-tGgR",
        "colab_type": "code",
        "colab": {}
      },
      "source": [
        "### Construction du model\n",
        "hidden_num_units = 2048 #\n",
        "hidden_num_units1 = 1024\n",
        "hidden_num_units2 = 128\n",
        "output_num_units = 43 #Nombre de classe d'images\n",
        "\n",
        "epochs = 15\n",
        "batch_size = 16\n",
        "pool_size = (2, 2)\n",
        "\n",
        "model = Sequential([\n",
        "\n",
        " Conv2D(16, (3, 3), activation='relu', input_shape=(64,64,3), padding='same'),\n",
        " BatchNormalization(),\n",
        "\n",
        " Conv2D(16, (3, 3), activation='relu', padding='same'),\n",
        " BatchNormalization(),\n",
        " MaxPooling2D(pool_size=pool_size),\n",
        " Dropout(0.2),\n",
        "    \n",
        " Conv2D(32, (3, 3), activation='relu', padding='same'),\n",
        " BatchNormalization(),#\n",
        "    \n",
        " Conv2D(32, (3, 3), activation='relu', padding='same'),\n",
        " BatchNormalization(),\n",
        " MaxPooling2D(pool_size=pool_size),\n",
        " Dropout(0.2),\n",
        "    \n",
        " Conv2D(64, (3, 3), activation='relu', padding='same'),\n",
        " BatchNormalization(),\n",
        "    \n",
        " Conv2D(64, (3, 3), activation='relu', padding='same'),\n",
        " BatchNormalization(),\n",
        " MaxPooling2D(pool_size=pool_size),\n",
        " Dropout(0.2),\n",
        "\n",
        " Flatten(),\n",
        "\n",
        " Dense(units=hidden_num_units, activation='relu'),\n",
        " Dropout(0.3),\n",
        " Dense(units=hidden_num_units1, activation='relu'),\n",
        " Dropout(0.3),\n",
        " Dense(units=hidden_num_units2, activation='relu'),\n",
        " Dropout(0.3),\n",
        " Dense(units=output_num_units, input_dim=hidden_num_units, activation='softmax'),\n",
        "])\n"
      ],
      "execution_count": 0,
      "outputs": []
    },
    {
      "cell_type": "code",
      "metadata": {
        "id": "1VtFUScptc9O",
        "colab_type": "code",
        "outputId": "81cdc3a2-5962-4055-a836-b1812df0b73d",
        "colab": {
          "base_uri": "https://localhost:8080/",
          "height": 1000
        }
      },
      "source": [
        "#Compilation du modele avec un learning rate de 1e-4\n",
        "model.compile(loss='categorical_crossentropy', optimizer=Adam(lr=1e-4), metrics=['accuracy'])\n",
        "model.summary()"
      ],
      "execution_count": 0,
      "outputs": [
        {
          "output_type": "stream",
          "text": [
            "Model: \"sequential_1\"\n",
            "_________________________________________________________________\n",
            "Layer (type)                 Output Shape              Param #   \n",
            "=================================================================\n",
            "conv2d_1 (Conv2D)            (None, 64, 64, 16)        448       \n",
            "_________________________________________________________________\n",
            "batch_normalization_1 (Batch (None, 64, 64, 16)        64        \n",
            "_________________________________________________________________\n",
            "conv2d_2 (Conv2D)            (None, 64, 64, 16)        2320      \n",
            "_________________________________________________________________\n",
            "batch_normalization_2 (Batch (None, 64, 64, 16)        64        \n",
            "_________________________________________________________________\n",
            "max_pooling2d_1 (MaxPooling2 (None, 32, 32, 16)        0         \n",
            "_________________________________________________________________\n",
            "dropout_1 (Dropout)          (None, 32, 32, 16)        0         \n",
            "_________________________________________________________________\n",
            "conv2d_3 (Conv2D)            (None, 32, 32, 32)        4640      \n",
            "_________________________________________________________________\n",
            "batch_normalization_3 (Batch (None, 32, 32, 32)        128       \n",
            "_________________________________________________________________\n",
            "conv2d_4 (Conv2D)            (None, 32, 32, 32)        9248      \n",
            "_________________________________________________________________\n",
            "batch_normalization_4 (Batch (None, 32, 32, 32)        128       \n",
            "_________________________________________________________________\n",
            "max_pooling2d_2 (MaxPooling2 (None, 16, 16, 32)        0         \n",
            "_________________________________________________________________\n",
            "dropout_2 (Dropout)          (None, 16, 16, 32)        0         \n",
            "_________________________________________________________________\n",
            "conv2d_5 (Conv2D)            (None, 16, 16, 64)        18496     \n",
            "_________________________________________________________________\n",
            "batch_normalization_5 (Batch (None, 16, 16, 64)        256       \n",
            "_________________________________________________________________\n",
            "conv2d_6 (Conv2D)            (None, 16, 16, 64)        36928     \n",
            "_________________________________________________________________\n",
            "batch_normalization_6 (Batch (None, 16, 16, 64)        256       \n",
            "_________________________________________________________________\n",
            "max_pooling2d_3 (MaxPooling2 (None, 8, 8, 64)          0         \n",
            "_________________________________________________________________\n",
            "dropout_3 (Dropout)          (None, 8, 8, 64)          0         \n",
            "_________________________________________________________________\n",
            "flatten_1 (Flatten)          (None, 4096)              0         \n",
            "_________________________________________________________________\n",
            "dense_1 (Dense)              (None, 2048)              8390656   \n",
            "_________________________________________________________________\n",
            "dropout_4 (Dropout)          (None, 2048)              0         \n",
            "_________________________________________________________________\n",
            "dense_2 (Dense)              (None, 1024)              2098176   \n",
            "_________________________________________________________________\n",
            "dropout_5 (Dropout)          (None, 1024)              0         \n",
            "_________________________________________________________________\n",
            "dense_3 (Dense)              (None, 128)               131200    \n",
            "_________________________________________________________________\n",
            "dropout_6 (Dropout)          (None, 128)               0         \n",
            "_________________________________________________________________\n",
            "dense_4 (Dense)              (None, 43)                5547      \n",
            "=================================================================\n",
            "Total params: 10,698,555\n",
            "Trainable params: 10,698,107\n",
            "Non-trainable params: 448\n",
            "_________________________________________________________________\n"
          ],
          "name": "stdout"
        }
      ]
    },
    {
      "cell_type": "code",
      "metadata": {
        "id": "k00-OMEmCOX_",
        "colab_type": "code",
        "outputId": "2b004b34-a666-438d-bf79-d7098841bdbe",
        "colab": {
          "base_uri": "https://localhost:8080/",
          "height": 626
        }
      },
      "source": [
        "# Entrainement du modele sur 15 epochs et validation sur les données de validation\n",
        "model_history = model.fit(train_x.reshape(-1,64,64,3), train_split_y, epochs=epochs, batch_size=batch_size, validation_data=(val_x, val_y))\n",
        "\n",
        "#Sauvegarde du modèle\n",
        "import pickle\n",
        "with open('drive/My Drive/Colab Notebooks/Datasets/model.md', 'wb') as handle:\n",
        "    pickle.dump(model, handle)\n",
        "\n",
        "with open('drive/My Drive/Colab Notebooks/Datasets/model_history.hst', 'wb') as handle:\n",
        "    pickle.dump(model_history, handle)       "
      ],
      "execution_count": 0,
      "outputs": [
        {
          "output_type": "stream",
          "text": [
            "Train on 31367 samples, validate on 7842 samples\n",
            "Epoch 1/15\n",
            "31367/31367 [==============================] - 1016s 32ms/step - loss: 2.2765 - acc: 0.3835 - val_loss: 0.4906 - val_acc: 0.8610\n",
            "Epoch 2/15\n",
            "31367/31367 [==============================] - 1016s 32ms/step - loss: 0.5084 - acc: 0.8405 - val_loss: 0.1065 - val_acc: 0.9668\n",
            "Epoch 3/15\n",
            "31367/31367 [==============================] - 1033s 33ms/step - loss: 0.2072 - acc: 0.9363 - val_loss: 0.0579 - val_acc: 0.9833\n",
            "Epoch 4/15\n",
            "31367/31367 [==============================] - 1016s 32ms/step - loss: 0.1156 - acc: 0.9639 - val_loss: 0.0366 - val_acc: 0.9903\n",
            "Epoch 5/15\n",
            "31367/31367 [==============================] - 1021s 33ms/step - loss: 0.0790 - acc: 0.9760 - val_loss: 0.0257 - val_acc: 0.9931\n",
            "Epoch 6/15\n",
            "31367/31367 [==============================] - 1018s 32ms/step - loss: 0.0569 - acc: 0.9830 - val_loss: 0.0194 - val_acc: 0.9946\n",
            "Epoch 7/15\n",
            "31367/31367 [==============================] - 1013s 32ms/step - loss: 0.0411 - acc: 0.9872 - val_loss: 0.0249 - val_acc: 0.9934\n",
            "Epoch 8/15\n",
            "31367/31367 [==============================] - 1008s 32ms/step - loss: 0.0335 - acc: 0.9891 - val_loss: 0.0209 - val_acc: 0.9950\n",
            "Epoch 9/15\n",
            "31367/31367 [==============================] - 1004s 32ms/step - loss: 0.0326 - acc: 0.9910 - val_loss: 0.0216 - val_acc: 0.9940\n",
            "Epoch 10/15\n",
            "31367/31367 [==============================] - 999s 32ms/step - loss: 0.0237 - acc: 0.9932 - val_loss: 0.0181 - val_acc: 0.9955\n",
            "Epoch 11/15\n",
            "31367/31367 [==============================] - 1003s 32ms/step - loss: 0.0231 - acc: 0.9927 - val_loss: 0.0203 - val_acc: 0.9962\n",
            "Epoch 12/15\n",
            "31367/31367 [==============================] - 1002s 32ms/step - loss: 0.0214 - acc: 0.9940 - val_loss: 0.0176 - val_acc: 0.9958\n",
            "Epoch 13/15\n",
            "31367/31367 [==============================] - 1000s 32ms/step - loss: 0.0246 - acc: 0.9938 - val_loss: 0.0134 - val_acc: 0.9972\n",
            "Epoch 14/15\n",
            "31367/31367 [==============================] - 1007s 32ms/step - loss: 0.0154 - acc: 0.9954 - val_loss: 0.0154 - val_acc: 0.9972\n",
            "Epoch 15/15\n",
            "31367/31367 [==============================] - 1008s 32ms/step - loss: 0.0151 - acc: 0.9961 - val_loss: 0.0215 - val_acc: 0.9960\n"
          ],
          "name": "stdout"
        }
      ]
    },
    {
      "cell_type": "code",
      "metadata": {
        "id": "9WITMlUWCMJA",
        "colab_type": "code",
        "colab": {}
      },
      "source": [
        ""
      ],
      "execution_count": 0,
      "outputs": []
    },
    {
      "cell_type": "code",
      "metadata": {
        "id": "7JehPIfsfxPU",
        "colab_type": "code",
        "outputId": "b94908c5-b4ef-47fe-ba8d-694780d5a6ac",
        "colab": {
          "base_uri": "https://localhost:8080/",
          "height": 653
        }
      },
      "source": [
        "#Visualisation de l'historique de l'accuracy et de la fonction de perte\n",
        "#en fonction  des epochs\n",
        "\n",
        "import matplotlib.pyplot as plt\n",
        "\n",
        "# Loss Curves\n",
        "plt.figure(figsize=(25, 10))\n",
        "plt.subplot(1, 2, 1)\n",
        "plt.plot(model_history.history['loss'],'-g',linewidth=1.0)\n",
        "plt.plot(model_history.history['val_loss'],'r',linewidth=1.0)\n",
        "plt.legend(['Training loss', 'Validation Loss'],fontsize=14)\n",
        "plt.xlabel('Epochs ',fontsize=16)\n",
        "plt.ylabel('Loss',fontsize=16)\n",
        "plt.title('Loss Curves',fontsize=22)\n",
        " \n",
        "# Accuracy Curves\n",
        "plt.subplot(1, 2, 2)\n",
        "plt.plot(model_history.history['acc'],'-g',linewidth=1.0)\n",
        "plt.plot(model_history.history['val_acc'],'r',linewidth=1.0)\n",
        "plt.legend(['Training Accuracy', 'Validation Accuracy'],fontsize=14)\n",
        "plt.xlabel('Epochs ',fontsize=16)\n",
        "\n",
        "plt.ylabel('Accuracy',fontsize=16)\n",
        "plt.title('Accuracy Curves',fontsize=22)\n",
        "plt.show()"
      ],
      "execution_count": 0,
      "outputs": [
        {
          "output_type": "display_data",
          "data": {
            "image/png": "[encoded data removed]",
            "text/plain": [
              "<Figure size 1800x720 with 2 Axes>"
            ]
          },
          "metadata": {
            "tags": []
          }
        }
      ]
    },
    {
      "cell_type": "code",
      "metadata": {
        "id": "g7FvQR-QtkEv",
        "colab_type": "code",
        "outputId": "68bd9195-5552-4cfc-db40-ddf3927e0376",
        "colab": {
          "base_uri": "https://localhost:8080/",
          "height": 36
        }
      },
      "source": [
        "### Prdicting the class\n",
        "pred = model.predict_classes(input_array_test)\n",
        "pred"
      ],
      "execution_count": 0,
      "outputs": [
        {
          "output_type": "execute_result",
          "data": {
            "text/plain": [
              "array([16,  1, 38, ...,  5,  7, 10])"
            ]
          },
          "metadata": {
            "tags": []
          },
          "execution_count": 14
        }
      ]
    },
    {
      "cell_type": "code",
      "metadata": {
        "id": "vGE6P12JjMLD",
        "colab_type": "code",
        "outputId": "1776d403-49e9-405d-c60c-cb0280a603c3",
        "colab": {
          "base_uri": "https://localhost:8080/",
          "height": 36
        }
      },
      "source": [
        "pred.shape"
      ],
      "execution_count": 0,
      "outputs": [
        {
          "output_type": "execute_result",
          "data": {
            "text/plain": [
              "(12630,)"
            ]
          },
          "metadata": {
            "tags": []
          },
          "execution_count": 15
        }
      ]
    },
    {
      "cell_type": "code",
      "metadata": {
        "id": "5ojnLCaXtTnw",
        "colab_type": "code",
        "outputId": "5928f439-8381-48ec-b26b-d29f541ad101",
        "colab": {
          "base_uri": "https://localhost:8080/",
          "height": 74
        }
      },
      "source": [
        "### Nous évaluons ensuite notre modèle sur les données de test\n",
        "cnn_score = model.evaluate(input_array_test, test_y)\n",
        "print(\"Test Loss: \", cnn_score[0])\n",
        "print(\"Test Accuracy: \", cnn_score[1])\n"
      ],
      "execution_count": 0,
      "outputs": [
        {
          "output_type": "stream",
          "text": [
            "12630/12630 [==============================] - 73s 6ms/step\n",
            "Test Loss:  0.15727638542512687\n",
            "Test Accuracy:  0.9711797308185605\n"
          ],
          "name": "stdout"
        }
      ]
    },
    {
      "cell_type": "code",
      "metadata": {
        "id": "Q0-B2uK9A6bF",
        "colab_type": "code",
        "outputId": "64c3ba0a-dd04-4946-f001-b153342f7319",
        "colab": {
          "base_uri": "https://localhost:8080/",
          "height": 150
        }
      },
      "source": [
        "#Génération de la matrice de confusion du modèle CNN\n",
        "\n",
        "from sklearn.metrics import confusion_matrix\n",
        "\n",
        "y_test_pred = model.predict_classes(input_array_test)\n",
        "\n",
        "y_test_true = np.array(labels_test, dtype=np.int) #convertion des labels true en numpy array\n",
        "\n",
        "conf_matrix = confusion_matrix(y_test_true, y_test_pred)\n",
        "conf_matrix"
      ],
      "execution_count": 0,
      "outputs": [
        {
          "output_type": "execute_result",
          "data": {
            "text/plain": [
              "array([[ 58,   0,   0, ...,   0,   0,   0],\n",
              "       [  0, 705,   8, ...,   0,   0,   0],\n",
              "       [  0,   1, 747, ...,   0,   0,   0],\n",
              "       ...,\n",
              "       [  0,   0,   1, ...,  78,   0,   0],\n",
              "       [  0,   0,   0, ...,   0,  52,   0],\n",
              "       [  0,   0,   0, ...,   0,   0,  90]])"
            ]
          },
          "metadata": {
            "tags": []
          },
          "execution_count": 28
        }
      ]
    },
    {
      "cell_type": "code",
      "metadata": {
        "id": "YUgjdu5D-62c",
        "colab_type": "code",
        "outputId": "d9eb9bdc-e3db-42b3-9deb-3066ce8a5b70",
        "colab": {
          "base_uri": "https://localhost:8080/",
          "height": 1000
        }
      },
      "source": [
        "import seaborn as sn\n",
        "import pandas as pd\n",
        "import matplotlib.pyplot as plt\n",
        "from sklearn.metrics import confusion_matrix\n",
        "\n",
        "df_conf_matrix = pd.DataFrame(conf_matrix, range(43), range(43))\n",
        "plt.figure(figsize=(23,23))\n",
        "sn.set(font_scale=1.4) # for label size\n",
        "sn.heatmap(df_conf_matrix, annot=True) # font size\n",
        "\n",
        "plt.show()"
      ],
      "execution_count": 0,
      "outputs": [
        {
          "output_type": "display_data",
          "data": {
            "image/png": "[encoded data removed]",
            "text/plain": [
              "<Figure size 1656x1656 with 2 Axes>"
            ]
          },
          "metadata": {
            "tags": []
          }
        }
      ]
    },
    {
      "cell_type": "markdown",
      "metadata": {
        "id": "nTS9XhROjG_5",
        "colab_type": "text"
      },
      "source": [
        "Cette matrice de confusion est plus remplie par des 0 en dehors de la diagonale. Ce qui montre que le modèle se trompe très faiblement entre les classe et donc la qualité du modèle. La plus grande confusion de ce modèle est la classe 1&18 (13fois). En effet le modèle a prédit 13 fois la classe 2 au lieu de la classe 18"
      ]
    },
    {
      "cell_type": "code",
      "metadata": {
        "id": "nHmWKFiq-7jf",
        "colab_type": "code",
        "colab": {}
      },
      "source": [
        "#End"
      ],
      "execution_count": 0,
      "outputs": []
    },
    {
      "cell_type": "code",
      "metadata": {
        "id": "ZVjRgxEGfxER",
        "colab_type": "code",
        "colab": {}
      },
      "source": [
        ""
      ],
      "execution_count": 0,
      "outputs": []
    }
  ]
}